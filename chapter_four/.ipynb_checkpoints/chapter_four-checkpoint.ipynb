{
 "cells": [
  {
   "cell_type": "code",
   "execution_count": 190,
   "metadata": {},
   "outputs": [],
   "source": [
    "import math\n",
    "import numpy as np\n",
    "import pymc3 as pm\n",
    "import matplotlib.pyplot as plt\n",
    "import lea\n",
    "import ipywidgets\n",
    "from fractions import Fraction"
   ]
  },
  {
   "cell_type": "markdown",
   "metadata": {},
   "source": [
    "# Elementary Hypothesis Testing"
   ]
  },
  {
   "cell_type": "markdown",
   "metadata": {},
   "source": [
    "How do we measure our confidence in a hypothesis that we believe underlies our observed data? And how do we compare our confidence between multiple competing hypotheses?\n",
    "\n",
    "Jaynes introduces this concept in Chapter four with an example of quality assurance in a \"widget\" factory. The purpose of this notebook is to elaborate on the additivity of data likelihood in binary versus multiple hypothesis testing. In other words, the primary purpose of this page is to illustrate \"*the cogent information that would be lost*\" as Jaynes writes on p.104.\n",
    "\n",
    "\n",
    "### Problem Setup (Background Information $X$)\n",
    "\n",
    "The example on p.93 goes, suppose we have eleven machines each producing \"widgets\" --- that is, a product that we can test for good or bad craftsmanship. We suppose ten out of the eleven machines are good manufacturers: for every **six** widgets they create, only one is defective. The eleventh machine is a bad manufacturer, and for every **three** widgets it creates, one is defective."
   ]
  },
  {
   "cell_type": "markdown",
   "metadata": {},
   "source": [
    "![title](./factory_widgets.png)"
   ]
  },
  {
   "cell_type": "markdown",
   "metadata": {},
   "source": [
    "Each machine produces its widgets into an exclusive, unlabelled box. Now suppose we are given one of these unlabelled boxes. We do not know what machine it came from, so we start testing the containing widgets one by one for good craftsmanship. What is our confidence that our box came from one of the ten good machines versus the eleventh bad machine?"
   ]
  },
  {
   "cell_type": "markdown",
   "metadata": {},
   "source": [
    "Our hypothesis declares which machine we believe the box to originate from. This also determines the sampling probability $\\theta$ that we expect is generating our observations. More concretely, given a hypothesis which determines $\\theta$, we model the observation of a single widget from our unlabelled box as a bernoulli random variable $D_i | \\theta \\sim Bernoulli(\\theta)$\n",
    "\n",
    "And, assuming that the total number of widgets in our box is massively larger than our sample size $N >> k$, the probability distribution for the entire sequence our observations is represented by a Binomial random variable \n",
    "\n",
    "\\begin{equation}\n",
    "\\begin{split}\n",
    "D | \\theta &\\sim Binomial(k, N, \\theta) \\\\\n",
    "&= D_1|\\theta \\ + \\ ... \\ + \\ D_N|\\theta \\\\\n",
    "&= {N \\choose k} \\theta^N (1 - \\theta)^{N - n}\n",
    "\\end{split}\n",
    "\\end{equation}"
   ]
  },
  {
   "cell_type": "markdown",
   "metadata": {},
   "source": [
    "Jaynes measures our confidence in a particular hypothesis $H$ (which determines the sampling probability $\\theta$) by calculating its \"evidence\" in light of the data. \"Evidence\" is defined by adding the log-likelihood of generating $D$ under the belief $H$ to our pre-existing prior evidence of hypothesis $H$. This is written concretely on pages 90-92:\n",
    "\n",
    "\\begin{equation}\n",
    "\\begin{split}\n",
    "e(H|X) &= 10 log_{10} \\left( \\frac{P(H|X)}{P( \\overline H | X)} \\right) \\\\\n",
    "\\text{and,} \\\\\n",
    "e(H|DX) &= e(H|X) + 10 \\left[ \\frac{P(D|H X)}{P(D | \\overline H X)} \\right] \\\\\n",
    "&= e(H|X) + 10\n",
    "&= e(H|X) + 10 \\sum_i log_{10} \\left[ \\frac{P(D_i|HX)}{P(D_i| \\overline H X)} \\right] \n",
    "\\end{split}\n",
    "\\end{equation}\n",
    "\n",
    "\n",
    "\n",
    "\\begin{equation} P(H=A|X) = 1/11 \\end{equation}\n",
    "\n",
    "\\begin{equation} P(H=B|X) = 10/11 \\end{equation}"
   ]
  },
  {
   "cell_type": "code",
   "execution_count": 193,
   "metadata": {},
   "outputs": [
    {
     "data": {
      "application/vnd.jupyter.widget-view+json": {
       "model_id": "28173ac0ade146bebb04a65d64b50f6c",
       "version_major": 2,
       "version_minor": 0
      },
      "text/plain": [
       "FloatSlider(value=0.09090909090909091, description='P(A|X)', max=1.0, step=0.09090909090909091)"
      ]
     },
     "metadata": {},
     "output_type": "display_data"
    },
    {
     "data": {
      "application/vnd.jupyter.widget-view+json": {
       "model_id": "24e282b3e720496e9b360999b6dce7db",
       "version_major": 2,
       "version_minor": 0
      },
      "text/plain": [
       "FloatSlider(value=0.9090909090909091, description='P(B|X)', max=1.0, step=0.09090909090909091)"
      ]
     },
     "metadata": {},
     "output_type": "display_data"
    }
   ],
   "source": [
    "A_prior = ipywidgets.FloatSlider(value=Fraction(1/11), min=0, max=1, step=Fraction(1/11), description=\"P(A|X)\")\n",
    "B_prior = ipywidgets.FloatSlider(value=Fraction(10/11), min=0, max=1, step=Fraction(1/11), description=\"P(B|X)\")\n",
    "\n",
    "display(A_prior)\n",
    "display(B_prior)"
   ]
  },
  {
   "cell_type": "markdown",
   "metadata": {},
   "source": [
    "And we assign sampling distributions for our data under the assumption of a particular hypothesis:\n",
    "\n",
    "\\begin{equation} P(D|H=A,X) = 2/3 \\end{equation}\n",
    "\n",
    "\\begin{equation} P(D|H=B,X) = 5/6 \\end{equation}"
   ]
  },
  {
   "cell_type": "code",
   "execution_count": 121,
   "metadata": {},
   "outputs": [
    {
     "data": {
      "application/vnd.jupyter.widget-view+json": {
       "model_id": "764069254621485ba8c2efe645efe0b8",
       "version_major": 2,
       "version_minor": 0
      },
      "text/plain": [
       "BoundedFloatText(value=0.6666666666666666, description='P(D|AX)', max=1.0, step=0.16666666666666666)"
      ]
     },
     "metadata": {},
     "output_type": "display_data"
    },
    {
     "data": {
      "application/vnd.jupyter.widget-view+json": {
       "model_id": "8393f6655f0445178215c883a9ad86ca",
       "version_major": 2,
       "version_minor": 0
      },
      "text/plain": [
       "BoundedFloatText(value=0.8333333333333334, description='P(D|BX)', max=1.0, step=0.16666666666666666)"
      ]
     },
     "metadata": {},
     "output_type": "display_data"
    }
   ],
   "source": [
    "A_sample_prob = ipywidgets.BoundedFloatText(value=Fraction(2/3), min=0, max=1, step=Fraction(1/6), description=\"P(D|AX)\")\n",
    "B_sample_prob = ipywidgets.BoundedFloatText(value=Fraction(5/6), min=0, max=1, step=Fraction(1/6), description=\"P(D|BX)\")\n",
    "\n",
    "display(A_sample_prob)\n",
    "display(B_sample_prob)"
   ]
  },
  {
   "cell_type": "markdown",
   "metadata": {},
   "source": [
    "Those are all of the necessary declarations we need so far to measure the evidence between two competing hypotheses: is the unlabelled box we are currently observing from machine $A$, or from machine $B_i$?\n",
    "\n",
    "### Graphing Our Belief\n",
    "\n",
    "To illustrate the evidence we generate in this model in light of particular data, we encode our inference rules using Lea, [a python library](https://bitbucket.org/piedenis/lea/) for intuitive probabilistic programming.\n",
    "\n",
    "We represent $H$ and $D_i$ with random variables:"
   ]
  },
  {
   "cell_type": "code",
   "execution_count": 187,
   "metadata": {},
   "outputs": [],
   "source": [
    "H = lea.pmf({'A': A_prior.value, 'B': B_prior.value})\n",
    "D_i = H.switch({\n",
    "    'A': lea.bernoulli(A_sample_prob.value),\n",
    "    'B': lea.bernoulli(B_sample_prob.value)\n",
    "})"
   ]
  },
  {
   "cell_type": "markdown",
   "metadata": {},
   "source": [
    "And we program the definition for evidence between two competing hypotheses from equation (4.13): "
   ]
  },
  {
   "cell_type": "code",
   "execution_count": 188,
   "metadata": {},
   "outputs": [],
   "source": [
    "def evidence_of(X, x):\n",
    "    return 10 * (math.log(lea.P(X == x), 10) - math.log(lea.P(X != x), 10))\n",
    "\n",
    "def additive_likelihood_of(h, data):\n",
    "    N = data.size\n",
    "    n = data[data == 1].size\n",
    "    if N == 0: # times() requires strictly postive integer\n",
    "        return 0\n",
    "    ratio = lea.P(D_i.given(H == h).times(N) == n) / lea.P(D_i.given(H != h).times(N) == n)\n",
    "    return 10 * math.log(ratio, 10)\n",
    "\n",
    "lea_additive_likelihood = 3\n",
    "\n",
    "def evidence_posterior(likelihood_func, h, data):\n",
    "    likelihood = likelihood_func(h, data)\n",
    "    return evidence_of(H, h) + likelihood\n",
    "\n",
    "def graph_evidence(h, data):\n",
    "    return np.array([evidence_posterior(additive_likelihood_of, h, data[:i]) for i in range(data.size)])"
   ]
  },
  {
   "cell_type": "markdown",
   "metadata": {},
   "source": [
    "Now we have all the machinery in place to infer the evidence for $P(H=A|DX)$ and $P(H=B|DX)$ given some observed widgets $D=d_1...d_n$.\n",
    "\n",
    "In agreement with Jayne's graph, we plot the evidence of competing evidence of hypotheses $A$ and $B$ for observing $N=0,...10$ bad widgets in a row. We see that our prior confidence in hypothesis $B$ is eroded as we become more confident that we are observing widgets from the worse machine $A$."
   ]
  },
  {
   "cell_type": "code",
   "execution_count": 189,
   "metadata": {
    "scrolled": true
   },
   "outputs": [
    {
     "data": {
      "image/png": "[encoded data removed]",
      "text/plain": [
       "<Figure size 432x288 with 1 Axes>"
      ]
     },
     "metadata": {
      "needs_background": "light"
     },
     "output_type": "display_data"
    }
   ],
   "source": [
    "# Observed sequence of bad widgets\n",
    "data = np.array([0, 0, 0, 0, 0, 0, 0, 0, 0])\n",
    "\n",
    "for h in ['A', 'B']:\n",
    "    plt.plot(range(data.size), graph_evidence(h, data), '-o')"
   ]
  },
  {
   "cell_type": "markdown",
   "metadata": {},
   "source": [
    "We see that these hypotheses operate (on the log-scale) with linear slope proportional to each independent observation in our sequence of observations. For example, if we saw observe two good widgets in the middle of the sequence, our confidence in the respective hypotheses will change by a slope corresponding to the log-likelihood of observing these two good widgets:"
   ]
  },
  {
   "cell_type": "code",
   "execution_count": 133,
   "metadata": {},
   "outputs": [
    {
     "data": {
      "image/png": "[encoded data removed]",
      "text/plain": [
       "<Figure size 432x288 with 1 Axes>"
      ]
     },
     "metadata": {
      "needs_background": "light"
     },
     "output_type": "display_data"
    }
   ],
   "source": [
    "# Observed sequence widgets\n",
    "data = np.array([0, 0, 0, 1, 1, 0, 0, 0, 0])\n",
    "\n",
    "for h in ['A', 'B']:\n",
    "    plt.plot(range(data.size), graph_evidence(h, data), '-o')"
   ]
  },
  {
   "cell_type": "markdown",
   "metadata": {},
   "source": [
    "## Multiple Hypothesis Testing"
   ]
  },
  {
   "cell_type": "markdown",
   "metadata": {},
   "source": [
    "Now we get to the point of this chapter, that is, what modification do we make to our calculations for multiple hypothesis testing, and what difference does it make?\n",
    "\n",
    "As Jaynes leaves to the reader in exercise (4.1), "
   ]
  },
  {
   "cell_type": "markdown",
   "metadata": {},
   "source": [
    "\\begin{equation} P(D_1, ..., D_N| \\overline H_i X) \\neq \\prod_j P(D_j | \\overline H_i X) \\end{equation}"
   ]
  },
  {
   "cell_type": "markdown",
   "metadata": {},
   "source": [
    "In our current problem statement, a single widget observation is a bernoulli random variable $D_i \\sim Bernoulli(p)$, and the total sequence of our observations including $k$ good widgets is a Binomial random variable $D \\sim Binomial(k, N, p) = D_1 + ... + D_N$"
   ]
  },
  {
   "cell_type": "markdown",
   "metadata": {},
   "source": [
    "As written in equation (4.39) on page 101,\n",
    "\n",
    "\\begin{equation} P(D | \\overline C X) = \\frac{P(D|AX)P(A|X) + P(D|BX)P(B|X)}{P(A|X) + P(B|X)} \\end{equation} \n",
    "\n",
    "which is calculated for us by lea automatically with `D.given(C != 1)`"
   ]
  },
  {
   "cell_type": "code",
   "execution_count": 128,
   "metadata": {
    "code_folding": []
   },
   "outputs": [],
   "source": [
    "H = lea.pmf({'A': 1/11 * (1 - pow(10, -6)), 'B': 10/11 * (1 - pow(10, -6)), 'C': pow(10, -6)})\n",
    "D_i = H.switch({\n",
    "    'A': lea.bernoulli(2/3),\n",
    "    'B': lea.bernoulli(5/6),\n",
    "    'C': lea.bernoulli(1/100)\n",
    "})"
   ]
  },
  {
   "cell_type": "code",
   "execution_count": 129,
   "metadata": {},
   "outputs": [
    {
     "data": {
      "text/plain": [
       "[<matplotlib.lines.Line2D at 0x7f76b88f8128>]"
      ]
     },
     "execution_count": 129,
     "metadata": {},
     "output_type": "execute_result"
    },
    {
     "data": {
      "image/png": "[encoded data removed]",
      "text/plain": [
       "<Figure size 432x288 with 1 Axes>"
      ]
     },
     "metadata": {
      "needs_background": "light"
     },
     "output_type": "display_data"
    }
   ],
   "source": [
    "# Observed sequence of bad widgets\n",
    "data = np.array([0] * 10)\n",
    "as bin\n",
    "evidence = np.array([evidence_posterior('A', data[:i]) for i in range(data.size)])\n",
    "plt.plot(range(data.size), evidence)\n",
    "\n",
    "evidence = np.array([evidence_posterior('B', data[:i]) for i in range(data.size)])\n",
    "plt.plot(range(data.size), evidence)\n",
    "\n",
    "evidence = np.array([evidence_posterior('C', data[:i]) for i in range(data.size)])\n",
    "plt.plot(range(data.size), evidence)"
   ]
  },
  {
   "cell_type": "markdown",
   "metadata": {},
   "source": [
    "\\begin{equation} P(D|AX) = {N \\choose n} (1/3)^n (2/3)^{N-n} \\end{equation}\n",
    "\\begin{equation} P(D|BX) = {N \\choose n} (1/6)^n (5/6)^{N-n} \\end{equation}"
   ]
  },
  {
   "cell_type": "code",
   "execution_count": null,
   "metadata": {
    "code_folding": []
   },
   "outputs": [],
   "source": [
    "def evidence(X, x):\n",
    "    return 10 * (math.log(lea.P(X == x), 10) - math.log(lea.P(X != x), 10))\n",
    "\n",
    "def widget_likelihood(h, data):\n",
    "    N = data.size\n",
    "    n = data[data == 1].size\n",
    "    ratio = lea.P(widget.given(hypothesis == h).times(N) == n) / lea.P(widget.given(hypothesis != h).times(N) == n)\n",
    "    return 10 * math.log(ratio, 10)\n",
    "\n",
    "def evidence_posterior(h, data):\n",
    "    return evidence(hypothesis, h) + widget_likelihood(h, data)"
   ]
  },
  {
   "cell_type": "code",
   "execution_count": 134,
   "metadata": {},
   "outputs": [
    {
     "name": "stdout",
     "output_type": "stream",
     "text": [
      "0 : 0.33333333333333337\n",
      "1 : 0.6666666666666666\n",
      "0 : 0.16666757233324273\n",
      "1 : 0.8333324276667573\n"
     ]
    }
   ],
   "source": [
    "# Probabilities of seeing # GOOD widgets in N sequential tosses\n",
    "print(D_i.given(H == 'A').times(1))\n",
    "\n",
    "print(D_i.given(H != 'A').times(1))"
   ]
  },
  {
   "cell_type": "code",
   "execution_count": null,
   "metadata": {},
   "outputs": [],
   "source": [
    "def binomial(x, n, p):\n",
    "    coefficient = math.factorial(n) / (math.factorial(x) * math.factorial(n - x))\n",
    "    return coefficient * pow(p, x) * (1 - p, n - x)\n",
    "\n",
    "def ev_a(data):\n",
    "    N = data.size\n",
    "    num_bad = data[data == 0].size\n",
    "    num_good = data[data == 1].size\n",
    "    p_prior = 1/11\n",
    "    ev_prior = 10 * math.log(p_prior / (1 - p_prior), 10)\n",
    "    ev_posterior = 10 * (math.log(pow(2/3, num_good) / pow(5/6, num_good), 10) + math.log(pow(1/3, num_bad) / pow(1/6, num_bad), 10))\n",
    "    return ev_prior + ev_posterior\n",
    "    \n",
    "def ev_b(data):\n",
    "    N = data.size\n",
    "    num_bad = data[data == 0].size\n",
    "    num_good = data[data == 1].size\n",
    "    p_prior = 10/11\n",
    "    ev_prior = 10 * math.log(p_prior / (1 - p_prior), 10)\n",
    "    ev_posterior = 10 * (math.log(pow(5/6, num_good) / pow(2/3, num_good), 10) + math.log(pow(1/6, num_bad) / pow(1/3, num_bad), 10))\n",
    "    return ev_prior + ev_posterior"
   ]
  },
  {
   "cell_type": "code",
   "execution_count": null,
   "metadata": {},
   "outputs": [],
   "source": [
    "data = np.array([0] * 10)\n",
    "evidence = np.array([ev_a(data[:i]) for i in range(data.size)])\n",
    "plt.plot(range(data.size), evidence)\n",
    "\n",
    "evidence = np.array([ev_b(data[:i]) for i in range(data.size)])\n",
    "plt.plot(range(data.size), evidence)"
   ]
  },
  {
   "cell_type": "code",
   "execution_count": null,
   "metadata": {},
   "outputs": [],
   "source": [
    "data_size = 10\n",
    "heatmap = []\n",
    "for num_good in range(data_size):\n",
    "    lst = []\n",
    "    for num_bad in range(data_size):\n",
    "        data = np.array([0] * num_bad + [1] * num_good)\n",
    "        heat = ev_b(data) - ev_a(data)\n",
    "        lst.append(heat)\n",
    "    heatmap.append(lst)"
   ]
  },
  {
   "cell_type": "code",
   "execution_count": null,
   "metadata": {},
   "outputs": [],
   "source": [
    "fig, ax = plt.subplots()\n",
    "im = ax.imshow(np.array(heatmap))\n",
    "ax.invert_yaxis()\n",
    "plt.show()"
   ]
  },
  {
   "cell_type": "code",
   "execution_count": 52,
   "metadata": {},
   "outputs": [],
   "source": [
    "def binomial(x, n, p):\n",
    "    coefficient = math.factorial(n) / (math.factorial(x) * math.factorial(n - x))\n",
    "    return coefficient * pow(p, x) * (1 - p, n - x)\n",
    "\n",
    "def ev_a_new(data):\n",
    "    N = data.size\n",
    "    num_bad = data[data == 0].size\n",
    "    num_good = data[data == 1].size\n",
    "    p_prior = 1/11 * (1 - pow(10, -6))\n",
    "    ev_prior = 10 * math.log(p_prior / (1 - p_prior), 10)\n",
    "    \n",
    "    ev_post_numerator_good = pow(2/3, num_good)\n",
    "    ev_post_denominator_good = pow(5/6, num_good) + (11/10 * pow(10, -6) * pow(1/100, num_good))\n",
    "    \n",
    "    ev_post_numerator_bad = pow(1/3, num_bad)\n",
    "    ev_post_denominator_bad = pow(1/6, num_bad) + (11/10 * pow(10, -6) * pow(99/100, num_bad))\n",
    "    \n",
    "    ev_posterior = 10 * (math.log(ev_post_numerator_good / ev_post_denominator_good, 10) + \n",
    "                         math.log(ev_post_numerator_bad / ev_post_denominator_bad, 10))\n",
    "    return ev_prior + ev_posterior\n",
    "\n",
    "\n",
    "def ev_b_new(data):\n",
    "    N = data.size\n",
    "    num_bad = data[data == 0].size\n",
    "    num_good = data[data == 1].size\n",
    "    p_prior = 10/11 * (1 - pow(10, -6))\n",
    "    ev_prior = 10 * math.log(p_prior / (1 - p_prior), 10)\n",
    "    \n",
    "    ev_post_numerator_good = pow(5/6, num_good)\n",
    "    ev_post_denominator_good = ((1 - pow(10, -6)) * pow(2/3, num_good)) + (11 * pow(10, -6) * pow(1/100, num_good))\n",
    "    \n",
    "    ev_post_numerator_bad = pow(1/6, num_bad)\n",
    "    ev_post_denominator_bad = ((1 - pow(10, -6)) * pow(1/3, num_bad)) + (11 * pow(10, -6) * pow(99/100, num_bad))\n",
    "\n",
    "    ev_posterior = 10 * (math.log(ev_post_numerator_good / ev_post_denominator_good, 10) + \n",
    "                         math.log(ev_post_numerator_bad / ev_post_denominator_bad, 10))\n",
    "    \n",
    "    return ev_prior + ev_posterior\n",
    "\n",
    "\n",
    "def ev_c_new(data):\n",
    "    N = data.size\n",
    "    num_bad = data[data == 0].size\n",
    "    num_good = data[data == 1].size\n",
    "    p_prior = pow(10, -6)\n",
    "    ev_prior = 10 * math.log(p_prior / (1 - p_prior), 10)\n",
    "    \n",
    "    ev_post_numerator_good = pow(1/100, num_good)\n",
    "    ev_post_denominator_good = (1/11 * (1 - pow(10, -6)) * pow(2/3, num_good)) + (10/11 * (1 - pow(10, -6)) * pow(5/6, num_good))\n",
    "    \n",
    "    ev_post_numerator_bad = pow(99/100, num_bad)\n",
    "    ev_post_denominator_bad = (1/11 * (1 - pow(10, -6)) * pow(1/3, num_bad)) + (10/11 * (1 - pow(10, -6)) * pow(1/6, num_bad))\n",
    "\n",
    "    ev_data_likelihood = 10 * (math.log(ev_post_numerator_good / ev_post_denominator_good, 10) + \n",
    "                         math.log(ev_post_numerator_bad / ev_post_denominator_bad, 10))\n",
    "    return ev_prior + ev_data_likelihood\n"
   ]
  },
  {
   "cell_type": "code",
   "execution_count": 53,
   "metadata": {},
   "outputs": [
    {
     "data": {
      "text/plain": [
       "[<matplotlib.lines.Line2D at 0x7f76b94fc550>]"
      ]
     },
     "execution_count": 53,
     "metadata": {},
     "output_type": "execute_result"
    },
    {
     "data": {
      "image/png": "[encoded data removed]",
      "text/plain": [
       "<Figure size 432x288 with 1 Axes>"
      ]
     },
     "metadata": {
      "needs_background": "light"
     },
     "output_type": "display_data"
    }
   ],
   "source": [
    "data = np.array([0] * 20)\n",
    "evidence = np.array([ev_a_new(data[:i]) for i in range(data.size)])\n",
    "plt.plot(range(data.size), evidence)\n",
    "\n",
    "evidence = np.array([ev_b_new(data[:i]) for i in range(data.size)])\n",
    "plt.plot(range(data.size), evidence)\n",
    "\n",
    "evidence = np.array([ev_c_new(data[:i]) for i in range(data.size)])\n",
    "plt.plot(range(data.size), evidence)"
   ]
  },
  {
   "cell_type": "code",
   "execution_count": null,
   "metadata": {},
   "outputs": [],
   "source": [
    "def D(H):\n",
    "    if H == 0:\n",
    "        return 1/3\n",
    "    else:\n",
    "        return 1/6\n",
    "\n",
    "with pm.Model() as model:\n",
    "    H_prior = pm.Categorical('H_prior', [1/11, 10/11])\n",
    "    D_given_H = pm.Deterministic('D_given_H', pm.math.switch(np.array(H_prior == 0), 1/3, 1/6))"
   ]
  },
  {
   "cell_type": "code",
   "execution_count": null,
   "metadata": {},
   "outputs": [],
   "source": [
    "model.free_RVs"
   ]
  },
  {
   "cell_type": "code",
   "execution_count": null,
   "metadata": {},
   "outputs": [],
   "source": [
    "import lea"
   ]
  },
  {
   "cell_type": "code",
   "execution_count": null,
   "metadata": {},
   "outputs": [],
   "source": [
    "hypothesis = lea.pmf({'A': 1/11, 'B': 10/11})\n",
    "widget = hypothesis.switch({\n",
    "    'A': lea.event(2/3),\n",
    "    'B': lea.event(5/6)\n",
    "})\n",
    "data = (False, False, False)"
   ]
  },
  {
   "cell_type": "code",
   "execution_count": null,
   "metadata": {},
   "outputs": [],
   "source": [
    "widget_given_B = widget.given(hypothesis=='B')\n",
    "widgets = lea.joint(*([widget_given_B.new() for i in range(3)]))\n",
    "lea.P(widgets == data)"
   ]
  },
  {
   "cell_type": "code",
   "execution_count": null,
   "metadata": {},
   "outputs": [],
   "source": [
    "hypothesis = lea.pmf({'A': 1/11 * (1 - pow(10, -6)), 'B': 10/11 * (1 - pow(10, -6)), 'C': pow(10, -6)})\n",
    "widget = hypothesis.switch({\n",
    "    'A': lea.bernoulli(2/3),\n",
    "    'B': lea.bernoulli(5/6),\n",
    "    'C': lea.bernoulli(1/100)\n",
    "})\n",
    "\n",
    "widget_given_B = widget.given(hypothesis=='B')\n",
    "\n",
    "a_widgets = widget.given(hypothesis=='A').times(3)\n",
    "b_widgets = widget.given(hypothesis=='B').times(3)\n",
    "\n",
    "print(1/3 * 1/11 + 1/6 * 10/11)\n",
    "widget.given(hypothesis!='C')"
   ]
  },
  {
   "cell_type": "code",
   "execution_count": null,
   "metadata": {},
   "outputs": [],
   "source": [
    "def A(x):\n",
    "    return x"
   ]
  },
  {
   "cell_type": "code",
   "execution_count": null,
   "metadata": {},
   "outputs": [],
   "source": [
    "ipywidgets.interact(A, x=10)"
   ]
  },
  {
   "cell_type": "code",
   "execution_count": null,
   "metadata": {},
   "outputs": [],
   "source": [
    "def D(N):\n",
    "    if N == 0:\n",
    "        return 0 # lea.Lea.times() requires strictly positive integer\n",
    "    ratio = H.switch({\n",
    "        'A': lea.binom(N, lea.P(D_i.given(H == 'A') == 1)) / lea.binom(N, lea.P(D_i.given(H != 'A') == 1))\n",
    "    })\n",
    "    print(D_i.given(H != 'A'))\n",
    "    return 10 * math.log(ratio, 10)\n",
    "\n",
    "D(2).given(H == 'A')"
   ]
  }
 ],
 "metadata": {
  "kernelspec": {
   "display_name": "Python 3",
   "language": "python",
   "name": "python3"
  },
  "language_info": {
   "codemirror_mode": {
    "name": "ipython",
    "version": 3
   },
   "file_extension": ".py",
   "mimetype": "text/x-python",
   "name": "python",
   "nbconvert_exporter": "python",
   "pygments_lexer": "ipython3",
   "version": "3.5.2"
  }
 },
 "nbformat": 4,
 "nbformat_minor": 2
}
