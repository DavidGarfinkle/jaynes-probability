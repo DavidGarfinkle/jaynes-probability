{
 "cells": [
  {
   "cell_type": "code",
   "execution_count": 364,
   "metadata": {},
   "outputs": [],
   "source": [
    "import math\n",
    "import numpy as np\n",
    "import matplotlib.pyplot as plt\n",
    "import lea\n",
    "from fractions import Fraction"
   ]
  },
  {
   "cell_type": "markdown",
   "metadata": {},
   "source": [
    "# Elementary Hypothesis Testing"
   ]
  },
  {
   "cell_type": "markdown",
   "metadata": {},
   "source": [
    "We observe some data and imagine one or more hypotheses that could explain our observations. How do we measure our confidence in a particular hypothesis? And how do we compare our confidence between multiple competing hypotheses?\n",
    "\n",
    "When Jaynes introduces this concept in chapter four, he makes the important distinction between binary hypothesis testing (measuring our confidence between only two possibilities) and multiple hypothesis testing (numbering more than two, and possibly infinite many).\n",
    "\n",
    "The primary purpose of this notebook is to clarify that concept, to illustrate \"*the cogent information that would be lost*\" as Jaynes writes, if the same method for binary hypothesis comparison was extended to the multiple hypothesis case. \n",
    "\n",
    "\n",
    "### Problem Setup (Background Information $X$)\n",
    "\n",
    "The example on p.93 goes, imagine we are doing quality assurance in a factory. There are eleven machines each producing \"widgets\" --- that is, a product that we can test for good or bad craftsmanship. We suppose that ten out of the eleven machines are good manufacturers: for every **six** widgets they create, only one is defective. The eleventh machine is a bad manufacturer, and for every **three** widgets it creates, one is defective."
   ]
  },
  {
   "cell_type": "markdown",
   "metadata": {},
   "source": [
    "![title](./factory_widgets.png)"
   ]
  },
  {
   "cell_type": "markdown",
   "metadata": {},
   "source": [
    "Each machine stores its widget production into an exclusive, unlabelled box containing $N$ widgets. Now suppose we are given one of these unlabelled boxes. We do not know what machine it came from, so we start testing the constituent widgets one by one for good craftsmanship. What is our confidence that our box came from one of the ten good machines versus the eleventh bad machine?"
   ]
  },
  {
   "cell_type": "markdown",
   "metadata": {},
   "source": [
    "Hypothesis $H$ determines the sampling probability $\\theta_H$ that we expect is generating our observations. More concretely, given a hypothesis which determines $\\theta_H$, we model the observation of a single widget from our unlabelled box as a bernoulli random variable $D_i | \\theta \\sim Bernoulli(\\theta)$\n",
    "\n",
    "And, assuming that the total number of widgets in our box is massively larger than our sample size $N >> k$, the probability distribution for the entire sequence our observations is represented by a Binomial random variable \n",
    "\n",
    "\\begin{equation}\n",
    "\\begin{split}\n",
    "D | \\theta &\\sim Binomial(k, N, \\theta) \\\\\n",
    "&= D_1|\\theta \\ + \\ ... \\ + \\ D_N|\\theta \\\\\n",
    "&= {N \\choose k} \\theta^N (1 - \\theta)^{N - n}\n",
    "\\end{split}\n",
    "\\end{equation}"
   ]
  },
  {
   "cell_type": "markdown",
   "metadata": {},
   "source": [
    "Jaynes measures our confidence in a particular hypothesis $H$ by calculating its \"evidence\" in light of the data. This is defined concretely on pages 90-92. \n",
    "\n",
    "\\begin{equation}\n",
    "\\begin{split}\n",
    "e(H|X) &= 10 log_{10} \\frac{P(H|X)}{P( \\overline H | X)} \\\\\n",
    "\\text{and,} \\\\\n",
    "e(H|DX) &= e(H|X) + 10 log_{10} \\left[ \\frac{P(D|H X)}{P(D | \\overline H X)} \\right] \\\\\n",
    "\\end{split}\n",
    "\\end{equation}\n",
    "\n",
    "We assume that each observation between widgets is independent given our hypothesis. In binary hypothesis testing, this assumption allows us to decompose the second term into multiple factors, whereas in the multiple hypothesis case this is not necessarily possible.\n",
    "\n",
    "\\begin{equation}\n",
    "\\begin{split}\n",
    "e(H|DX)&= e(H|X) + 10 \\sum_i log_{10} \\left[ \\frac{P(D_i|HX)}{P(D_i| \\overline H X)} \\right] \\\\\n",
    "\\end{split}\n",
    "\\end{equation}"
   ]
  },
  {
   "cell_type": "markdown",
   "metadata": {},
   "source": [
    "## Binary Hypothesis Testing"
   ]
  },
  {
   "cell_type": "markdown",
   "metadata": {},
   "source": [
    "Those are all of the definitions we need so far to measure the evidence between exactly two competing hypotheses: is the unlabelled box we are currently observing from machine $A$, or from machine $B_i$?"
   ]
  },
  {
   "cell_type": "markdown",
   "metadata": {},
   "source": [
    "From our background information $X$ and the principle of indifference derived in Chapter two, we can assign prior probabilities:\n",
    "\n",
    "\\begin{equation}\n",
    "P(H=A|X) = P(A|X) = 1/11 \\\\\n",
    "P(H=B|X) = P (B|X) = 10/11\n",
    "\\end{equation}\n",
    "\n",
    "and sampling probabilities of observing a good widget at trial $i$:\n",
    "\\begin{equation}\n",
    "P(D_i|A X) = 2/3 \\\\\n",
    "P(D_i|B X) = 5/6\n",
    "\\end{equation}"
   ]
  },
  {
   "cell_type": "markdown",
   "metadata": {},
   "source": [
    "To illustrate the evidence we generate in this model in light of some data, we encode our inference rules using Lea, [a python library](https://bitbucket.org/piedenis/lea/) for intuitive probabilistic programming.\n",
    "\n",
    "We represent $H$ and $D_i$ with random variables (whose parameters can be changed to visualize a different graph):"
   ]
  },
  {
   "cell_type": "code",
   "execution_count": 242,
   "metadata": {},
   "outputs": [],
   "source": [
    "H = lea.pmf({'A': Fraction(1, 11), 'B': Fraction(10, 11)})\n",
    "D_i = H.switch({\n",
    "    'A': lea.bernoulli(Fraction(2, 3)),\n",
    "    'B': lea.bernoulli(Fraction(5, 6))\n",
    "})"
   ]
  },
  {
   "cell_type": "markdown",
   "metadata": {},
   "source": [
    "And we program the definition for evidence between two competing hypotheses from equation (4.13): "
   ]
  },
  {
   "cell_type": "code",
   "execution_count": 329,
   "metadata": {},
   "outputs": [],
   "source": [
    "def evidence_of(X, x):\n",
    "    return 10 * (math.log(lea.P(X == x), 10) - math.log(lea.P(X != x), 10))\n",
    "\n",
    "def additive_logodds(h, data):\n",
    "    N = data.size\n",
    "    n = data[data == 1].size\n",
    "    if N == 0: # times() requires strictly postive integer\n",
    "        return 0\n",
    "    ratio = lea.P(D_i.given(H == h).times(N) == n) / lea.P(D_i.given(H != h).times(N) == n)\n",
    "    return 10 * math.log(ratio, 10)\n",
    "\n",
    "def evidence_posterior(h, data, odds_func):\n",
    "    return evidence_of(H, h) + odds_func(h, data)\n",
    "\n",
    "def graph_evidence(h, data, odds_func=additive_logodds):\n",
    "    return np.array([evidence_posterior(h, data[:i], odds_func) for i in range(data.size)])"
   ]
  },
  {
   "cell_type": "markdown",
   "metadata": {},
   "source": [
    "Now we have all the machinery in place to illustrate evidence in the binary hypothesis case.\n",
    "\n",
    "For example, a sequence of ten bad widgets in a row shows the erosion of hypothesis $B$ (the good machine) in favour of hypothesis $A$ (the bad one):"
   ]
  },
  {
   "cell_type": "code",
   "execution_count": 330,
   "metadata": {
    "scrolled": true
   },
   "outputs": [
    {
     "data": {
      "image/png": "[encoded data removed]",
      "text/plain": [
       "<Figure size 432x288 with 1 Axes>"
      ]
     },
     "metadata": {
      "needs_background": "light"
     },
     "output_type": "display_data"
    }
   ],
   "source": [
    "# Observed sequence of bad widgets\n",
    "data = np.array([0, 0, 0, 0, 0, 0, 0, 0, 0])\n",
    "\n",
    "for h in ['A', 'B']:\n",
    "    plt.plot(range(data.size), graph_evidence(h, data), '-o')"
   ]
  },
  {
   "cell_type": "markdown",
   "metadata": {},
   "source": [
    "We see that these hypotheses operate (on the log-scale) with opposite linear slope, proportional to each independent observation in our sequence of observations (p.95).\n",
    "\n",
    "\\begin{equation}\n",
    "e(A|DX) ~= e(A|X) + 4k - N \\\\\n",
    "e(B|DX) ~= e(B|X) - 4k + N\n",
    "\\end{equation}\n",
    "\n",
    "For another example, if we observe two good widgets in the middle of the sequence, our confidence in the respective hypotheses will change by a slope corresponding to the log-likelihood of observing these two good widgets:"
   ]
  },
  {
   "cell_type": "code",
   "execution_count": 344,
   "metadata": {},
   "outputs": [
    {
     "data": {
      "image/png": "[encoded data removed]",
      "text/plain": [
       "<Figure size 432x288 with 1 Axes>"
      ]
     },
     "metadata": {
      "needs_background": "light"
     },
     "output_type": "display_data"
    }
   ],
   "source": [
    "# Observed sequence widgets\n",
    "data = np.array([0, 0, 0, 1, 1, 0, 0, 0, 0, 0])\n",
    "\n",
    "for h in ['A', 'B']:\n",
    "    plt.plot(range(data.size), graph_evidence(h, data), '-o')"
   ]
  },
  {
   "cell_type": "markdown",
   "metadata": {},
   "source": [
    "## Multiple Hypothesis Testing"
   ]
  },
  {
   "cell_type": "markdown",
   "metadata": {},
   "source": [
    "Now we can elaborate on \"*the cogent information that would be lost*,\" that is, if we assumed in the **multiple hypothesis** case that the data are independent given hypothesis $H$ and independent given $\\overline H$.\n",
    "\n",
    "Suppose we had a third hypothesis C, that the box we are observing came from an even worse machine which creates **nintey-nine** bad widgets out of a hundred. What modification do we make to our calculations for multiple hypothesis testing, and what difference does it make?\n",
    "\n",
    "\\begin{equation}\n",
    "P(A|X) = 1/11 (1 - 10^{-6}) \\\\\n",
    "P(B|X) = 10/11 (1 - 10^{-6}) \\\\\n",
    "P(C|X) = 10^{-6} \\\\\n",
    "\\end{equation}"
   ]
  },
  {
   "cell_type": "code",
   "execution_count": 365,
   "metadata": {},
   "outputs": [],
   "source": [
    "H = lea.pmf({'A': 1/11 * (1 - pow(10, -6)), 'B': 10/11 * (1 - pow(10, -6)), 'C': pow(10, -6)})\n",
    "D_i = H.switch({\n",
    "    'A': lea.bernoulli(2/3),\n",
    "    'B': lea.bernoulli(5/6),\n",
    "    'C': lea.bernoulli(1/100) # only one good widget out of a hundred\n",
    "})"
   ]
  },
  {
   "cell_type": "markdown",
   "metadata": {},
   "source": [
    "The fundamental difference between binary and multiple hypotheses testing is that the data log-odds term is not necessarily additive (p.97),\n",
    "\n",
    "\\begin{equation}\n",
    "\\begin{split}\n",
    "log_{10} \\left( \\frac{P(D_1, ..., D_N| H_i X)}{P(D_1, ..., D_N| \\overline H_i X)} \\right) &\\neq \\sum_j log_{10} \\left( \\frac{P(D_j | H_i X)}{P(D_j | \\overline H_i X)} \\right)\n",
    "\\end{split}\n",
    "\\end{equation}"
   ]
  },
  {
   "cell_type": "markdown",
   "metadata": {},
   "source": [
    "Instead, we must use Bayes' theorem for $P(D_1, ..., D_N|HX)$ as in equation (4.39) (p. 101),\n",
    "\n",
    "\\begin{equation} P(D | \\overline H_i X) = \\frac{ \\sum_{j \\neq i} P(D |H_j X)P(H_j|X)}{\\sum_{j \\neq i} P(H_j|X)} \\end{equation}\n",
    "\n",
    "and we redefine our log-odds calculation for evidence in the multiple hypothesis context:"
   ]
  },
  {
   "cell_type": "code",
   "execution_count": 363,
   "metadata": {},
   "outputs": [],
   "source": [
    "D = lambda N: H.switch({\n",
    "    'A': lea.binom(N, lea.P(D_i.given(H == 'A') == 1)),\n",
    "    'B': lea.binom(N, lea.P(D_i.given(H == 'B') == 1)),\n",
    "    'C': lea.binom(N, lea.P(D_i.given(H == 'C') == 1))\n",
    "})\n",
    "\n",
    "def logodds(hyp, data):\n",
    "    N = data.size\n",
    "    n = data[data == 1].size\n",
    "    if N == 0:\n",
    "        return 0\n",
    "    \n",
    "    not_hyp = [h for h in H.support if h != hyp]\n",
    "    \n",
    "    lr_num = sum(lea.P(D(N).given(H == h) == n) * lea.P(H == h) for h in not_hyp)\n",
    "    lr_den = sum(lea.P(H == h) for h in not_hyp)\n",
    "    odds = lea.P(D(N).given(H == hyp) == n) / (lr_num / lr_den)\n",
    "\n",
    "    return 10 * math.log(odds, 10)"
   ]
  },
  {
   "cell_type": "markdown",
   "metadata": {},
   "source": [
    "Had we extended our method for binary hypothesis testing and assumed that the log-odds term would decompose in the multiple hypothesis case, we would yield the following evidences for hypothesis $A$, $B$, and $C$:"
   ]
  },
  {
   "cell_type": "code",
   "execution_count": 366,
   "metadata": {},
   "outputs": [
    {
     "data": {
      "image/png": "[encoded data removed]",
      "text/plain": [
       "<Figure size 432x288 with 1 Axes>"
      ]
     },
     "metadata": {
      "needs_background": "light"
     },
     "output_type": "display_data"
    }
   ],
   "source": [
    "# Observed sequence of widgets\n",
    "data = np.array([0] * 15)\n",
    "\n",
    "for h in ['A', 'B', 'C']:\n",
    "    plt.plot(range(data.size), graph_evidence(h, data), '-o')"
   ]
  },
  {
   "cell_type": "markdown",
   "metadata": {},
   "source": [
    "Whereas using our new formulation for log-odds using Bayes' theorem results in the following changes in slope:"
   ]
  },
  {
   "cell_type": "code",
   "execution_count": 359,
   "metadata": {},
   "outputs": [
    {
     "data": {
      "image/png": "[encoded data removed]",
      "text/plain": [
       "<Figure size 432x288 with 1 Axes>"
      ]
     },
     "metadata": {
      "needs_background": "light"
     },
     "output_type": "display_data"
    }
   ],
   "source": [
    "# Observed sequence of widgets\n",
    "data = np.array([0] * 15)\n",
    "\n",
    "for h in ['A', 'B', 'C']:\n",
    "    plt.plot(range(data.size), graph_evidence(h, data, odds_func=logodds), '-o')"
   ]
  },
  {
   "cell_type": "markdown",
   "metadata": {},
   "source": [
    "So we see that, the most striking part "
   ]
  },
  {
   "cell_type": "code",
   "execution_count": 128,
   "metadata": {
    "code_folding": []
   },
   "outputs": [],
   "source": [
    "\n",
    "def binomial(x, n, p):\n",
    "    coefficient = math.factorial(n) / (math.factorial(x) * math.factorial(n - x))\n",
    "    return coefficient * pow(p, x) * (1 - p, n - x)\n",
    "\n",
    "def ev_a_new(data):\n",
    "    N = data.size\n",
    "    num_bad = data[data == 0].size\n",
    "    num_good = data[data == 1].size\n",
    "    p_prior = 1/11 * (1 - pow(10, -6))\n",
    "    ev_prior = 10 * math.log(p_prior / (1 - p_prior), 10)\n",
    "    \n",
    "    ev_post_numerator_good = pow(2/3, num_good)\n",
    "    ev_post_denominator_good = pow(5/6, num_good) + (11/10 * pow(10, -6) * pow(1/100, num_good))\n",
    "    \n",
    "    ev_post_numerator_bad = pow(1/3, num_bad)\n",
    "    ev_post_denominator_bad = pow(1/6, num_bad) + (11/10 * pow(10, -6) * pow(99/100, num_bad))\n",
    "    \n",
    "    ev_posterior = 10 * (math.log(ev_post_numerator_good / ev_post_denominator_good, 10) + \n",
    "                         math.log(ev_post_numerator_bad / ev_post_denominator_bad, 10))\n",
    "    return ev_prior + ev_posterior\n",
    "\n",
    "\n",
    "def ev_b_new(data):\n",
    "    N = data.size\n",
    "    num_bad = data[data == 0].size\n",
    "    num_good = data[data == 1].size\n",
    "    p_prior = 10/11 * (1 - pow(10, -6))\n",
    "    ev_prior = 10 * math.log(p_prior / (1 - p_prior), 10)\n",
    "    \n",
    "    ev_post_numerator_good = pow(5/6, num_good)\n",
    "    ev_post_denominator_good = ((1 - pow(10, -6)) * pow(2/3, num_good)) + (11 * pow(10, -6) * pow(1/100, num_good))\n",
    "    \n",
    "    ev_post_numerator_bad = pow(1/6, num_bad)\n",
    "    ev_post_denominator_bad = ((1 - pow(10, -6)) * pow(1/3, num_bad)) + (11 * pow(10, -6) * pow(99/100, num_bad))\n",
    "\n",
    "    ev_posterior = 10 * (math.log(ev_post_numerator_good / ev_post_denominator_good, 10) + \n",
    "                         math.log(ev_post_numerator_bad / ev_post_denominator_bad, 10))\n",
    "    \n",
    "    return ev_prior + ev_posterior\n",
    "\n",
    "\n",
    "def ev_c_new(data):\n",
    "    N = data.size\n",
    "    num_bad = data[data == 0].size\n",
    "    num_good = data[data == 1].size\n",
    "    p_prior = pow(10, -6)\n",
    "    ev_prior = 10 * math.log(p_prior / (1 - p_prior), 10)\n",
    "    \n",
    "    ev_post_numerator_good = pow(1/100, num_good)\n",
    "    ev_post_denominator_good = (1/11 * (1 - pow(10, -6)) * pow(2/3, num_good)) + (10/11 * (1 - pow(10, -6)) * pow(5/6, num_good))\n",
    "    \n",
    "    ev_post_numerator_bad = pow(99/100, num_bad)\n",
    "    ev_post_denominator_bad = (1/11 * (1 - pow(10, -6)) * pow(1/3, num_bad)) + (10/11 * (1 - pow(10, -6)) * pow(1/6, num_bad))\n",
    "\n",
    "    ev_data_likelihood = 10 * (math.log(ev_post_numerator_good / ev_post_denominator_good, 10) + \n",
    "                         math.log(ev_post_numerator_bad / ev_post_denominator_bad, 10))\n",
    "    return ev_prior + ev_data_likelihood\n"
   ]
  },
  {
   "cell_type": "code",
   "execution_count": 129,
   "metadata": {},
   "outputs": [
    {
     "data": {
      "text/plain": [
       "[<matplotlib.lines.Line2D at 0x7f76b88f8128>]"
      ]
     },
     "execution_count": 129,
     "metadata": {},
     "output_type": "execute_result"
    },
    {
     "data": {
      "image/png": "[encoded data removed]",
      "text/plain": [
       "<Figure size 432x288 with 1 Axes>"
      ]
     },
     "metadata": {
      "needs_background": "light"
     },
     "output_type": "display_data"
    }
   ],
   "source": []
  },
  {
   "cell_type": "markdown",
   "metadata": {},
   "source": [
    "\\begin{equation} P(D|AX) = {N \\choose n} (1/3)^n (2/3)^{N-n} \\end{equation}\n",
    "\\begin{equation} P(D|BX) = {N \\choose n} (1/6)^n (5/6)^{N-n} \\end{equation}"
   ]
  },
  {
   "cell_type": "code",
   "execution_count": null,
   "metadata": {
    "code_folding": []
   },
   "outputs": [],
   "source": [
    "def evidence(X, x):\n",
    "    return 10 * (math.log(lea.P(X == x), 10) - math.log(lea.P(X != x), 10))\n",
    "\n",
    "def widget_likelihood(h, data):\n",
    "    N = data.size\n",
    "    n = data[data == 1].size\n",
    "    ratio = lea.P(widget.given(hypothesis == h).times(N) == n) / lea.P(widget.given(hypothesis != h).times(N) == n)\n",
    "    return 10 * math.log(ratio, 10)\n",
    "\n",
    "def evidence_posterior(h, data):\n",
    "    return evidence(hypothesis, h) + widget_likelihood(h, data)"
   ]
  },
  {
   "cell_type": "code",
   "execution_count": 134,
   "metadata": {},
   "outputs": [
    {
     "name": "stdout",
     "output_type": "stream",
     "text": [
      "0 : 0.33333333333333337\n",
      "1 : 0.6666666666666666\n",
      "0 : 0.16666757233324273\n",
      "1 : 0.8333324276667573\n"
     ]
    }
   ],
   "source": [
    "# Probabilities of seeing # GOOD widgets in N sequential tosses\n",
    "print(D_i.given(H == 'A').times(1))\n",
    "\n",
    "print(D_i.given(H != 'A').times(1))"
   ]
  },
  {
   "cell_type": "code",
   "execution_count": null,
   "metadata": {},
   "outputs": [],
   "source": [
    "def binomial(x, n, p):\n",
    "    coefficient = math.factorial(n) / (math.factorial(x) * math.factorial(n - x))\n",
    "    return coefficient * pow(p, x) * (1 - p, n - x)\n",
    "\n",
    "def ev_a(data):\n",
    "    N = data.size\n",
    "    num_bad = data[data == 0].size\n",
    "    num_good = data[data == 1].size\n",
    "    p_prior = 1/11\n",
    "    ev_prior = 10 * math.log(p_prior / (1 - p_prior), 10)\n",
    "    ev_posterior = 10 * (math.log(pow(2/3, num_good) / pow(5/6, num_good), 10) + math.log(pow(1/3, num_bad) / pow(1/6, num_bad), 10))\n",
    "    return ev_prior + ev_posterior\n",
    "    \n",
    "def ev_b(data):\n",
    "    N = data.size\n",
    "    num_bad = data[data == 0].size\n",
    "    num_good = data[data == 1].size\n",
    "    p_prior = 10/11\n",
    "    ev_prior = 10 * math.log(p_prior / (1 - p_prior), 10)\n",
    "    ev_posterior = 10 * (math.log(pow(5/6, num_good) / pow(2/3, num_good), 10) + math.log(pow(1/6, num_bad) / pow(1/3, num_bad), 10))\n",
    "    return ev_prior + ev_posterior"
   ]
  },
  {
   "cell_type": "code",
   "execution_count": null,
   "metadata": {},
   "outputs": [],
   "source": [
    "data = np.array([0] * 10)\n",
    "evidence = np.array([ev_a(data[:i]) for i in range(data.size)])\n",
    "plt.plot(range(data.size), evidence)\n",
    "\n",
    "evidence = np.array([ev_b(data[:i]) for i in range(data.size)])\n",
    "plt.plot(range(data.size), evidence)"
   ]
  },
  {
   "cell_type": "code",
   "execution_count": null,
   "metadata": {},
   "outputs": [],
   "source": [
    "data_size = 10\n",
    "heatmap = []\n",
    "for num_good in range(data_size):\n",
    "    lst = []\n",
    "    for num_bad in range(data_size):\n",
    "        data = np.array([0] * num_bad + [1] * num_good)\n",
    "        heat = ev_b(data) - ev_a(data)\n",
    "        lst.append(heat)\n",
    "    heatmap.append(lst)"
   ]
  },
  {
   "cell_type": "code",
   "execution_count": null,
   "metadata": {},
   "outputs": [],
   "source": [
    "fig, ax = plt.subplots()\n",
    "im = ax.imshow(np.array(heatmap))\n",
    "ax.invert_yaxis()\n",
    "plt.show()"
   ]
  },
  {
   "cell_type": "code",
   "execution_count": 52,
   "metadata": {},
   "outputs": [],
   "source": [
    "def binomial(x, n, p):\n",
    "    coefficient = math.factorial(n) / (math.factorial(x) * math.factorial(n - x))\n",
    "    return coefficient * pow(p, x) * (1 - p, n - x)\n",
    "\n",
    "def ev_a_new(data):\n",
    "    N = data.size\n",
    "    num_bad = data[data == 0].size\n",
    "    num_good = data[data == 1].size\n",
    "    p_prior = 1/11 * (1 - pow(10, -6))\n",
    "    ev_prior = 10 * math.log(p_prior / (1 - p_prior), 10)\n",
    "    \n",
    "    ev_post_numerator_good = pow(2/3, num_good)\n",
    "    ev_post_denominator_good = pow(5/6, num_good) + (11/10 * pow(10, -6) * pow(1/100, num_good))\n",
    "    \n",
    "    ev_post_numerator_bad = pow(1/3, num_bad)\n",
    "    ev_post_denominator_bad = pow(1/6, num_bad) + (11/10 * pow(10, -6) * pow(99/100, num_bad))\n",
    "    \n",
    "    ev_posterior = 10 * (math.log(ev_post_numerator_good / ev_post_denominator_good, 10) + \n",
    "                         math.log(ev_post_numerator_bad / ev_post_denominator_bad, 10))\n",
    "    return ev_prior + ev_posterior\n",
    "\n",
    "\n",
    "def ev_b_new(data):\n",
    "    N = data.size\n",
    "    num_bad = data[data == 0].size\n",
    "    num_good = data[data == 1].size\n",
    "    p_prior = 10/11 * (1 - pow(10, -6))\n",
    "    ev_prior = 10 * math.log(p_prior / (1 - p_prior), 10)\n",
    "    \n",
    "    ev_post_numerator_good = pow(5/6, num_good)\n",
    "    ev_post_denominator_good = ((1 - pow(10, -6)) * pow(2/3, num_good)) + (11 * pow(10, -6) * pow(1/100, num_good))\n",
    "    \n",
    "    ev_post_numerator_bad = pow(1/6, num_bad)\n",
    "    ev_post_denominator_bad = ((1 - pow(10, -6)) * pow(1/3, num_bad)) + (11 * pow(10, -6) * pow(99/100, num_bad))\n",
    "\n",
    "    ev_posterior = 10 * (math.log(ev_post_numerator_good / ev_post_denominator_good, 10) + \n",
    "                         math.log(ev_post_numerator_bad / ev_post_denominator_bad, 10))\n",
    "    \n",
    "    return ev_prior + ev_posterior\n",
    "\n",
    "\n",
    "def ev_c_new(data):\n",
    "    N = data.size\n",
    "    num_bad = data[data == 0].size\n",
    "    num_good = data[data == 1].size\n",
    "    p_prior = pow(10, -6)\n",
    "    ev_prior = 10 * math.log(p_prior / (1 - p_prior), 10)\n",
    "    \n",
    "    ev_post_numerator_good = pow(1/100, num_good)\n",
    "    ev_post_denominator_good = (1/11 * (1 - pow(10, -6)) * pow(2/3, num_good)) + (10/11 * (1 - pow(10, -6)) * pow(5/6, num_good))\n",
    "    \n",
    "    ev_post_numerator_bad = pow(99/100, num_bad)\n",
    "    ev_post_denominator_bad = (1/11 * (1 - pow(10, -6)) * pow(1/3, num_bad)) + (10/11 * (1 - pow(10, -6)) * pow(1/6, num_bad))\n",
    "\n",
    "    ev_data_likelihood = 10 * (math.log(ev_post_numerator_good / ev_post_denominator_good, 10) + \n",
    "                         math.log(ev_post_numerator_bad / ev_post_denominator_bad, 10))\n",
    "    return ev_prior + ev_data_likelihood\n"
   ]
  },
  {
   "cell_type": "code",
   "execution_count": 53,
   "metadata": {},
   "outputs": [
    {
     "data": {
      "text/plain": [
       "[<matplotlib.lines.Line2D at 0x7f76b94fc550>]"
      ]
     },
     "execution_count": 53,
     "metadata": {},
     "output_type": "execute_result"
    },
    {
     "data": {
      "image/png": "[encoded data removed]",
      "text/plain": [
       "<Figure size 432x288 with 1 Axes>"
      ]
     },
     "metadata": {
      "needs_background": "light"
     },
     "output_type": "display_data"
    }
   ],
   "source": [
    "data = np.array([0] * 20)\n",
    "evidence = np.array([ev_a_new(data[:i]) for i in range(data.size)])\n",
    "plt.plot(range(data.size), evidence)\n",
    "\n",
    "evidence = np.array([ev_b_new(data[:i]) for i in range(data.size)])\n",
    "plt.plot(range(data.size), evidence)\n",
    "\n",
    "evidence = np.array([ev_c_new(data[:i]) for i in range(data.size)])\n",
    "plt.plot(range(data.size), evidence)"
   ]
  },
  {
   "cell_type": "code",
   "execution_count": null,
   "metadata": {},
   "outputs": [],
   "source": [
    "def D(H):\n",
    "    if H == 0:\n",
    "        return 1/3\n",
    "    else:\n",
    "        return 1/6\n",
    "\n",
    "with pm.Model() as model:\n",
    "    H_prior = pm.Categorical('H_prior', [1/11, 10/11])\n",
    "    D_given_H = pm.Deterministic('D_given_H', pm.math.switch(np.array(H_prior == 0), 1/3, 1/6))"
   ]
  },
  {
   "cell_type": "code",
   "execution_count": null,
   "metadata": {},
   "outputs": [],
   "source": [
    "model.free_RVs"
   ]
  },
  {
   "cell_type": "code",
   "execution_count": null,
   "metadata": {},
   "outputs": [],
   "source": [
    "import lea"
   ]
  },
  {
   "cell_type": "code",
   "execution_count": null,
   "metadata": {},
   "outputs": [],
   "source": [
    "hypothesis = lea.pmf({'A': 1/11, 'B': 10/11})\n",
    "widget = hypothesis.switch({\n",
    "    'A': lea.event(2/3),\n",
    "    'B': lea.event(5/6)\n",
    "})\n",
    "data = (False, False, False)"
   ]
  },
  {
   "cell_type": "code",
   "execution_count": null,
   "metadata": {},
   "outputs": [],
   "source": [
    "widget_given_B = widget.given(hypothesis=='B')\n",
    "widgets = lea.joint(*([widget_given_B.new() for i in range(3)]))\n",
    "lea.P(widgets == data)"
   ]
  },
  {
   "cell_type": "code",
   "execution_count": null,
   "metadata": {},
   "outputs": [],
   "source": [
    "hypothesis = lea.pmf({'A': 1/11 * (1 - pow(10, -6)), 'B': 10/11 * (1 - pow(10, -6)), 'C': pow(10, -6)})\n",
    "widget = hypothesis.switch({\n",
    "    'A': lea.bernoulli(2/3),\n",
    "    'B': lea.bernoulli(5/6),\n",
    "    'C': lea.bernoulli(1/100)\n",
    "})\n",
    "\n",
    "widget_given_B = widget.given(hypothesis=='B')\n",
    "\n",
    "a_widgets = widget.given(hypothesis=='A').times(3)\n",
    "b_widgets = widget.given(hypothesis=='B').times(3)\n",
    "\n",
    "print(1/3 * 1/11 + 1/6 * 10/11)\n",
    "widget.given(hypothesis!='C')"
   ]
  },
  {
   "cell_type": "code",
   "execution_count": null,
   "metadata": {},
   "outputs": [],
   "source": [
    "def A(x):\n",
    "    return x"
   ]
  },
  {
   "cell_type": "code",
   "execution_count": null,
   "metadata": {},
   "outputs": [],
   "source": [
    "ipywidgets.interact(A, x=10)"
   ]
  },
  {
   "cell_type": "code",
   "execution_count": 237,
   "metadata": {},
   "outputs": [
    {
     "data": {
      "text/plain": [
       "0 : 1/9\n",
       "1 : 4/9\n",
       "2 : 4/9"
      ]
     },
     "execution_count": 237,
     "metadata": {},
     "output_type": "execute_result"
    }
   ],
   "source": [
    "def D(N):\n",
    "    if N == 0:\n",
    "        return 0 # lea.Lea.times() requires strictly positive integer\n",
    "    ratio = H.switch({\n",
    "        'A': lea.binom(N, lea.P(D_i.given(H == 'A') == 1)) / lea.binom(N, lea.P(D_i.given(H != 'A') == 1))\n",
    "    })\n",
    "    print(D_i.given(H != 'A'))\n",
    "    return 10 * math.log(ratio, 10)\n",
    "\n",
    "D = lambda N: H.switch({\n",
    "    'A': lea.binom(N, lea.P(D_i.given(H == 'A') == 1)),\n",
    "    'B': lea.binom(N, lea.P(D_i.given(H == 'B') == 1))\n",
    "})\n",
    "\n",
    "D(2).given(H == 'A')"
   ]
  },
  {
   "cell_type": "code",
   "execution_count": 199,
   "metadata": {},
   "outputs": [
    {
     "data": {
      "application/vnd.jupyter.widget-view+json": {
       "model_id": "83a9aedba472400fa0078dcf98d4f1a1",
       "version_major": 2,
       "version_minor": 0
      },
      "text/plain": [
       "FloatSlider(value=0.09090909090909091, description='P(A|X)', max=1.0, step=0.09090909090909091)"
      ]
     },
     "metadata": {},
     "output_type": "display_data"
    },
    {
     "data": {
      "application/vnd.jupyter.widget-view+json": {
       "model_id": "8269551014e842f39b5a31e7df3f1638",
       "version_major": 2,
       "version_minor": 0
      },
      "text/plain": [
       "FloatSlider(value=0.9090909090909091, description='P(B|X)', max=1.0, step=0.09090909090909091)"
      ]
     },
     "metadata": {},
     "output_type": "display_data"
    },
    {
     "data": {
      "application/vnd.jupyter.widget-view+json": {
       "model_id": "a325543910b5481ea217be55d63a8f44",
       "version_major": 2,
       "version_minor": 0
      },
      "text/plain": [
       "BoundedFloatText(value=0.6666666666666666, description='P(D|AX)', max=1.0, step=0.16666666666666666)"
      ]
     },
     "metadata": {},
     "output_type": "display_data"
    },
    {
     "data": {
      "application/vnd.jupyter.widget-view+json": {
       "model_id": "71bdc2a75d8b472cb730e22cdd79e6c2",
       "version_major": 2,
       "version_minor": 0
      },
      "text/plain": [
       "BoundedFloatText(value=0.8333333333333334, description='P(D|BX)', max=1.0, step=0.16666666666666666)"
      ]
     },
     "metadata": {},
     "output_type": "display_data"
    },
    {
     "data": {
      "text/plain": [
       "-3.0102999566398116"
      ]
     },
     "execution_count": 199,
     "metadata": {},
     "output_type": "execute_result"
    }
   ],
   "source": [
    "A_prior = Fraction(1/11)\n",
    "B_prior = Fraction(10/11)\n",
    "\n",
    "A_prior = ipywidgets.FloatSlider(value=Fraction(1/11), min=0, max=1, step=Fraction(1/11), description=\"P(A|X)\")\n",
    "B_prior = ipywidgets.FloatSlider(value=Fraction(10/11), min=0, max=1, step=Fraction(1/11), description=\"P(B|X)\")\n",
    "\n",
    "display(A_prior)\n",
    "display(B_prior)\n",
    "\n",
    "A_sample_prob = ipywidgets.BoundedFloatText(value=Fraction(2/3), min=0, max=1, step=Fraction(1/6), description=\"P(D|AX)\")\n",
    "B_sample_prob = ipywidgets.BoundedFloatText(value=Fraction(5/6), min=0, max=1, step=Fraction(1/6), description=\"P(D|BX)\")\n",
    "\n",
    "display(A_sample_prob)\n",
    "display(B_sample_prob)\n",
    "\n",
    "10 * math.log(1/2, 10)"
   ]
  },
  {
   "cell_type": "markdown",
   "metadata": {},
   "source": [
    "In our current problem statement, a single widget observation is a bernoulli random variable $D_i \\sim Bernoulli(p)$, and the total sequence of our observations including $k$ good widgets is a Binomial random variable $D \\sim Binomial(k, N, p) = D_1 + ... + D_N$\n",
    "\n",
    "\n",
    "Where the binomial $N \\choose k$ coefficients cancel out and we are left with the summed log-probability ratios $log_{10} \\left( \\frac{\\theta_H}{\\theta_{\\overline H}} \\right)$ and $log_{10} \\left( \\frac{1 - \\theta_H}{1 - \\theta_{\\overline H}} \\right)$\n",
    "\n",
    "&= e(H|X) + N \\cdot 10 log_{10} \\left( \\frac{\\theta_H}{\\theta_{\\overline H}} \\right) + (N - n) \\cdot 10 log_{10} \\left( \\frac{1 - \\theta_H}{1 - \\theta_{\\overline H}} \\right)\n",
    "\n",
    "CONSTANT SLOPE\n",
    "\n",
    "D is bin, D_i bernoulli\n",
    "D does not necessarily break down into a product of N bernoulli rvs (maybe) in not H\n",
    "\n",
    "write theta as 1 - theta"
   ]
  },
  {
   "cell_type": "code",
   "execution_count": null,
   "metadata": {},
   "outputs": [],
   "source": []
  }
 ],
 "metadata": {
  "kernelspec": {
   "display_name": "Python 3",
   "language": "python",
   "name": "python3"
  },
  "language_info": {
   "codemirror_mode": {
    "name": "ipython",
    "version": 3
   },
   "file_extension": ".py",
   "mimetype": "text/x-python",
   "name": "python",
   "nbconvert_exporter": "python",
   "pygments_lexer": "ipython3",
   "version": "3.5.2"
  }
 },
 "nbformat": 4,
 "nbformat_minor": 2
}
