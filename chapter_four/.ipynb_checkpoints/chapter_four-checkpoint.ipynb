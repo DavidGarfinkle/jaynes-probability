{
 "cells": [
  {
   "cell_type": "code",
   "execution_count": 364,
   "metadata": {},
   "outputs": [],
   "source": [
    "import math\n",
    "import numpy as np\n",
    "import matplotlib.pyplot as plt\n",
    "import lea\n",
    "from fractions import Fraction"
   ]
  },
  {
   "cell_type": "markdown",
   "metadata": {},
   "source": [
    "# Elementary Hypothesis Testing"
   ]
  },
  {
   "cell_type": "markdown",
   "metadata": {},
   "source": [
    "We observe some data and imagine one or more hypotheses that could explain our observations. How do we measure our confidence in a particular hypothesis? And how do we compare our confidence between multiple competing hypotheses?\n",
    "\n",
    "When Jaynes introduces this concept in chapter four, he makes the important distinction between binary hypothesis testing (measuring our confidence between only two possibilities) and multiple hypothesis testing (numbering more than two, and possibly infinite many).\n",
    "\n",
    "The primary purpose of this notebook is to clarify that concept, to illustrate \"*the cogent information that would be lost*\" as Jaynes writes, if the same method for binary hypothesis comparison was extended to the multiple hypothesis case. \n",
    "\n",
    "\n",
    "### Problem Setup (Background Information $X$)\n",
    "\n",
    "The example goes (p.93), imagine we are doing quality assurance in a factory. There are eleven machines each producing \"widgets\" --- that is, a product that we can test for good or bad craftsmanship. We suppose that ten out of the eleven machines are good manufacturers: for every **six** widgets they create, only one is defective. The eleventh machine is a bad manufacturer, and for every **three** widgets it creates, one is defective."
   ]
  },
  {
   "cell_type": "markdown",
   "metadata": {},
   "source": [
    "![title](./factory_widgets.png)"
   ]
  },
  {
   "cell_type": "markdown",
   "metadata": {},
   "source": [
    "Each machine stores its widget production into an exclusive, unlabelled box containing $N$ widgets. Now suppose we are given one of these unlabelled boxes. We do not know what machine it came from, so we start testing the constituent widgets one by one for good craftsmanship. What is our confidence that our box came from one of the ten good machines versus the eleventh bad machine?"
   ]
  },
  {
   "cell_type": "markdown",
   "metadata": {},
   "source": [
    "Hypothesis $H$ determines the sampling probability $\\theta_H$ that we expect is generating our observations. More concretely, given a hypothesis which determines $\\theta_H$, we model the observation of a single widget from our unlabelled box as a bernoulli random variable $D_i | \\theta \\sim Bernoulli(\\theta)$\n",
    "\n",
    "And, assuming that the widget observations are logically independent and that the total number of widgets in our box is massively larger than our sample size $N >> k$, the probability distribution for the entire sequence our observations is represented by a Binomial random variable \n",
    "\n",
    "\\begin{equation}\n",
    "\\begin{split}\n",
    "D | \\theta &\\sim Binomial(k, N, \\theta) \\\\\n",
    "&= D_1|\\theta \\ + \\ ... \\ + \\ D_N|\\theta \\\\\n",
    "&= {N \\choose k} \\theta^N (1 - \\theta)^{N - n}\n",
    "\\end{split}\n",
    "\\end{equation}"
   ]
  },
  {
   "cell_type": "markdown",
   "metadata": {},
   "source": [
    "Jaynes measures our confidence in a particular hypothesis $H$ by calculating its \"evidence\" in light of the data. This is defined concretely on pages 90-92. \n",
    "\n",
    "\\begin{equation}\n",
    "\\begin{split}\n",
    "e(H|X) &= 10 log_{10} \\frac{P(H|X)}{P( \\overline H | X)} \\\\\n",
    "\\text{and,} \\\\\n",
    "e(H|DX) &= e(H|X) + 10 log_{10} \\left[ \\frac{P(D|H X)}{P(D | \\overline H X)} \\right] \\\\\n",
    "\\end{split}\n",
    "\\end{equation}"
   ]
  },
  {
   "cell_type": "markdown",
   "metadata": {},
   "source": [
    "## Binary Hypothesis Testing"
   ]
  },
  {
   "cell_type": "markdown",
   "metadata": {},
   "source": [
    "Those are all of the definitions we need so far to measure the evidence between exactly two competing hypotheses: is the unlabelled box we are currently observing from machine $A$, or from machine $B_i$?"
   ]
  },
  {
   "cell_type": "markdown",
   "metadata": {},
   "source": [
    "From our background information $X$ and the principle of indifference derived in Chapter two, we can assign prior probabilities:\n",
    "\n",
    "\\begin{equation}\n",
    "P(H=A|X) = P(A|X) = 1/11 \\\\\n",
    "P(H=B|X) = P (B|X) = 10/11\n",
    "\\end{equation}\n",
    "\n",
    "and sampling probabilities of observing a good widget at trial $i$:\n",
    "\\begin{equation}\n",
    "P(D_i|A X) = 2/3 \\\\\n",
    "P(D_i|B X) = 5/6\n",
    "\\end{equation}"
   ]
  },
  {
   "cell_type": "markdown",
   "metadata": {},
   "source": [
    "In binary hypothesis testing, the logical independence assumption of our data allows us to decompose the evidence calculation into multiple factors (whereas in multiple hypothesis testing the following is not necessarily possible),\n",
    "\n",
    "\\begin{equation}\n",
    "\\begin{split}\n",
    "e(H|DX)&= e(H|X) + 10 \\sum_i log_{10} \\left[ \\frac{P(D_i|HX)}{P(D_i| \\overline H X)} \\right] \\\\\n",
    "&= e(H|X) + N \\cdot 10 log_{10} \\left( \\frac{\\theta_H}{1 - \\theta_{H}} \\right) + (N - k) \\cdot 10 log_{10} \\left( \\frac{1 - \\theta_H}{\\theta_{H}} \\right) \\\\\n",
    "\\end{split}\n",
    "\\end{equation}\n",
    "\n",
    "so that the posterior evidence of a binary hypothesis in light of our data has **linear slope**:\n",
    "\n",
    "\\begin{equation}\n",
    "\\begin{split}\n",
    "e(A|DX) &~= -10 + N \\cdot 10 log_{10} \\left( \\frac{\\frac{2}{3}}{\\frac{1}{3}} \\right) - (N - k) \\cdot 10 log_{10} \\left( \\frac{\\frac{1}{3}}{\\frac{2}{3}} \\right) \\\\\n",
    "&~= -10 + 4k - N \\\\\n",
    "e(B|DX) &~= -10 + N \\cdot 10 log_{10} \\left( \\frac{\\frac{5}{6}}{\\frac{1}{6}} \\right) - (N - k) \\cdot 10 log_{10} \\left( \\frac{\\frac{1}{6}}{\\frac{5}{6}} \\right) \\\\\n",
    "&~= 10 -4k + N\n",
    "\\end{split}\n",
    "\\end{equation}"
   ]
  },
  {
   "cell_type": "markdown",
   "metadata": {},
   "source": [
    "To illustrate this model, we encode our inference rules using Lea, [a python library](https://bitbucket.org/piedenis/lea/) for intuitive probabilistic programming.\n",
    "\n",
    "We represent $H$ and $D_i$ with random variables (whose parameters can be changed to visualize a different graph):"
   ]
  },
  {
   "cell_type": "code",
   "execution_count": 242,
   "metadata": {},
   "outputs": [],
   "source": [
    "H = lea.pmf({'A': Fraction(1, 11), 'B': Fraction(10, 11)})\n",
    "D_i = H.switch({\n",
    "    'A': lea.bernoulli(Fraction(2, 3)),\n",
    "    'B': lea.bernoulli(Fraction(5, 6))\n",
    "})"
   ]
  },
  {
   "cell_type": "markdown",
   "metadata": {},
   "source": [
    "And we program the definition for evidence between two competing hypotheses from equation (4.13): "
   ]
  },
  {
   "cell_type": "code",
   "execution_count": 329,
   "metadata": {},
   "outputs": [],
   "source": [
    "def evidence_of(X, x):\n",
    "    return 10 * (math.log(lea.P(X == x), 10) - math.log(lea.P(X != x), 10))\n",
    "\n",
    "def additive_logodds(h, data):\n",
    "    N = data.size\n",
    "    n = data[data == 1].size\n",
    "    if N == 0: # times() requires strictly postive integer\n",
    "        return 0\n",
    "    ratio = lea.P(D_i.given(H == h).times(N) == n) / lea.P(D_i.given(H != h).times(N) == n)\n",
    "    return 10 * math.log(ratio, 10)\n",
    "\n",
    "def evidence_posterior(h, data, odds_func):\n",
    "    return evidence_of(H, h) + odds_func(h, data)\n",
    "\n",
    "def graph_evidence(h, data, odds_func=additive_logodds):\n",
    "    return np.array([evidence_posterior(h, data[:i], odds_func) for i in range(data.size)])"
   ]
  },
  {
   "cell_type": "markdown",
   "metadata": {},
   "source": [
    "Now we have all the machinery in place to illustrate evidence in the binary hypothesis case.\n",
    "\n",
    "For example, a sequence of ten bad widgets in a row shows the erosion of hypothesis $B$ (the good machine) in favour of hypothesis $A$ (the bad one):"
   ]
  },
  {
   "cell_type": "code",
   "execution_count": 370,
   "metadata": {
    "scrolled": true
   },
   "outputs": [
    {
     "data": {
      "image/png": "[encoded data removed]",
      "text/plain": [
       "<Figure size 432x288 with 1 Axes>"
      ]
     },
     "metadata": {
      "needs_background": "light"
     },
     "output_type": "display_data"
    }
   ],
   "source": [
    "# Observed sequence of bad widgets\n",
    "data = np.array([0, 0, 0, 0, 0, 0, 0, 0, 0])\n",
    "\n",
    "for h in ['A', 'B']:\n",
    "    plt.plot(range(data.size), graph_evidence(h, data), '-o')"
   ]
  },
  {
   "cell_type": "markdown",
   "metadata": {},
   "source": [
    "We see that, as expected, the evidence of these hypotheses operate (on the log-scale) with opposite linear slope, proportional to each independent observation in our sequence of observations (p.95).\n",
    "\n",
    "For another example, if we observe two good widgets in the middle of the sequence, our confidence in the respective hypotheses will change by a slope corresponding to the log-likelihood of observing these two good widgets:"
   ]
  },
  {
   "cell_type": "code",
   "execution_count": 344,
   "metadata": {},
   "outputs": [
    {
     "data": {
      "image/png": "[encoded data removed]",
      "text/plain": [
       "<Figure size 432x288 with 1 Axes>"
      ]
     },
     "metadata": {
      "needs_background": "light"
     },
     "output_type": "display_data"
    }
   ],
   "source": [
    "# Observed sequence widgets\n",
    "data = np.array([0, 0, 0, 1, 1, 0, 0, 0, 0, 0])\n",
    "\n",
    "for h in ['A', 'B']:\n",
    "    plt.plot(range(data.size), graph_evidence(h, data), '-o')"
   ]
  },
  {
   "cell_type": "markdown",
   "metadata": {},
   "source": [
    "## Multiple Hypothesis Testing"
   ]
  },
  {
   "cell_type": "markdown",
   "metadata": {},
   "source": [
    "Now we can elaborate on \"*the cogent information that would be lost*,\" that is, if we assumed in the **multiple hypothesis** case that the data are independent given hypothesis $H$ and independent given $\\overline H$.\n",
    "\n",
    "Suppose we had a third hypothesis C, that the box we are observing came from an even worse machine which creates **nintey-nine** bad widgets out of a hundred. What modification do we make to our calculations for multiple hypothesis testing, and what difference does it make?\n",
    "\n",
    "\\begin{equation}\n",
    "P(A|X) = 1/11 (1 - 10^{-6}) \\\\\n",
    "P(B|X) = 10/11 (1 - 10^{-6}) \\\\\n",
    "P(C|X) = 10^{-6} \\\\\n",
    "\\end{equation}"
   ]
  },
  {
   "cell_type": "code",
   "execution_count": 365,
   "metadata": {},
   "outputs": [],
   "source": [
    "H = lea.pmf({'A': 1/11 * (1 - pow(10, -6)), 'B': 10/11 * (1 - pow(10, -6)), 'C': pow(10, -6)})\n",
    "D_i = H.switch({\n",
    "    'A': lea.bernoulli(2/3),\n",
    "    'B': lea.bernoulli(5/6),\n",
    "    'C': lea.bernoulli(1/100) # only one good widget out of a hundred\n",
    "})"
   ]
  },
  {
   "cell_type": "markdown",
   "metadata": {},
   "source": [
    "The fundamental difference between binary and multiple hypotheses testing is that the data log-odds term is not necessarily additive (p.97),\n",
    "\n",
    "\\begin{equation}\n",
    "\\begin{split}\n",
    "log_{10} \\left( \\frac{P(D_1, ..., D_N| H_i X)}{P(D_1, ..., D_N| \\overline H_i X)} \\right) &\\neq \\sum_j log_{10} \\left( \\frac{P(D_j | H_i X)}{P(D_j | \\overline H_i X)} \\right)\n",
    "\\end{split}\n",
    "\\end{equation}"
   ]
  },
  {
   "cell_type": "markdown",
   "metadata": {},
   "source": [
    "Instead, we must use Bayes' theorem for $P(D_1, ..., D_N|HX)$ as in equation (4.39) (p. 101),\n",
    "\n",
    "\\begin{equation} P(D | \\overline H_i X) = \\frac{ \\sum_{j \\neq i} P(D |H_j X)P(H_j|X)}{\\sum_{j \\neq i} P(H_j|X)} \\end{equation}\n",
    "\n",
    "and we redefine our log-odds calculation for evidence in the multiple hypothesis context:"
   ]
  },
  {
   "cell_type": "code",
   "execution_count": 363,
   "metadata": {},
   "outputs": [],
   "source": [
    "D = lambda N: H.switch({\n",
    "    'A': lea.binom(N, lea.P(D_i.given(H == 'A') == 1)),\n",
    "    'B': lea.binom(N, lea.P(D_i.given(H == 'B') == 1)),\n",
    "    'C': lea.binom(N, lea.P(D_i.given(H == 'C') == 1))\n",
    "})\n",
    "\n",
    "def logodds(hyp, data):\n",
    "    N = data.size\n",
    "    n = data[data == 1].size\n",
    "    if N == 0:\n",
    "        return 0\n",
    "    \n",
    "    not_hyp = [h for h in H.support if h != hyp]\n",
    "    \n",
    "    lr_num = sum(lea.P(D(N).given(H == h) == n) * lea.P(H == h) for h in not_hyp)\n",
    "    lr_den = sum(lea.P(H == h) for h in not_hyp)\n",
    "    odds = lea.P(D(N).given(H == hyp) == n) / (lr_num / lr_den)\n",
    "\n",
    "    return 10 * math.log(odds, 10)"
   ]
  },
  {
   "cell_type": "markdown",
   "metadata": {},
   "source": [
    "Had we extended our method for binary hypothesis testing and assumed that the log-odds term would decompose in the multiple hypothesis case, we would yield the following evidences for hypothesis $A$, $B$, and $C$:"
   ]
  },
  {
   "cell_type": "code",
   "execution_count": 366,
   "metadata": {},
   "outputs": [
    {
     "data": {
      "image/png": "[encoded data removed]",
      "text/plain": [
       "<Figure size 432x288 with 1 Axes>"
      ]
     },
     "metadata": {
      "needs_background": "light"
     },
     "output_type": "display_data"
    }
   ],
   "source": [
    "# Observed sequence of widgets\n",
    "data = np.array([0] * 15)\n",
    "\n",
    "for h in ['A', 'B', 'C']:\n",
    "    plt.plot(range(data.size), graph_evidence(h, data), '-o')"
   ]
  },
  {
   "cell_type": "markdown",
   "metadata": {},
   "source": [
    "Whereas using our new formulation for log-odds using Bayes' theorem results in the following changes in slope:"
   ]
  },
  {
   "cell_type": "code",
   "execution_count": 359,
   "metadata": {},
   "outputs": [
    {
     "data": {
      "image/png": "[encoded data removed]",
      "text/plain": [
       "<Figure size 432x288 with 1 Axes>"
      ]
     },
     "metadata": {
      "needs_background": "light"
     },
     "output_type": "display_data"
    }
   ],
   "source": [
    "# Observed sequence of widgets\n",
    "data = np.array([0] * 15)\n",
    "\n",
    "for h in ['A', 'B', 'C']:\n",
    "    plt.plot(range(data.size), graph_evidence(h, data, odds_func=logodds), '-o')"
   ]
  },
  {
   "cell_type": "markdown",
   "metadata": {},
   "source": [
    "So we see that, the most striking part "
   ]
  },
  {
   "cell_type": "markdown",
   "metadata": {},
   "source": [
    "In our current problem statement, a single widget observation is a bernoulli random variable $D_i \\sim Bernoulli(p)$, and the total sequence of our observations including $k$ good widgets is a Binomial random variable $D \\sim Binomial(k, N, p) = D_1 + ... + D_N$\n",
    "\n",
    "\n",
    "Where the binomial $N \\choose k$ coefficients cancel out and we are left with the summed log-probability ratios $log_{10} \\left( \\frac{\\theta_H}{\\theta_{\\overline H}} \\right)$ and $log_{10} \\left( \\frac{1 - \\theta_H}{1 - \\theta_{\\overline H}} \\right)$\n",
    "\n",
    "&= e(H|X) + N \\cdot 10 log_{10} \\left( \\frac{\\theta_H}{\\theta_{\\overline H}} \\right) + (N - n) \\cdot 10 log_{10} \\left( \\frac{1 - \\theta_H}{1 - \\theta_{\\overline H}} \\right)\n",
    "\n",
    "CONSTANT SLOPE\n",
    "\n",
    "D is bin, D_i bernoulli\n",
    "D does not necessarily break down into a product of N bernoulli rvs (maybe) in not H\n",
    "\n",
    "write theta as 1 - theta"
   ]
  },
  {
   "cell_type": "code",
   "execution_count": 371,
   "metadata": {},
   "outputs": [
    {
     "data": {
      "text/plain": [
       "0.30102999566398114"
      ]
     },
     "execution_count": 371,
     "metadata": {},
     "output_type": "execute_result"
    }
   ],
   "source": [
    "math.log((2/3)/(1/3), 10)"
   ]
  },
  {
   "cell_type": "code",
   "execution_count": null,
   "metadata": {},
   "outputs": [],
   "source": []
  }
 ],
 "metadata": {
  "kernelspec": {
   "display_name": "Python 3",
   "language": "python",
   "name": "python3"
  },
  "language_info": {
   "codemirror_mode": {
    "name": "ipython",
    "version": 3
   },
   "file_extension": ".py",
   "mimetype": "text/x-python",
   "name": "python",
   "nbconvert_exporter": "python",
   "pygments_lexer": "ipython3",
   "version": "3.5.2"
  }
 },
 "nbformat": 4,
 "nbformat_minor": 2
}
