{
 "cells": [
  {
   "cell_type": "code",
   "execution_count": 4,
   "metadata": {},
   "outputs": [],
   "source": [
    "import math\n",
    "import numpy as np\n",
    "import pymc3 as pm\n",
    "import matplotlib.pyplot as plt\n",
    "import lea\n",
    "import ipywidgets\n",
    "from fractions import Fraction\n",
    "from enum import Enum"
   ]
  },
  {
   "cell_type": "markdown",
   "metadata": {},
   "source": [
    "# Elementary Hypothesis Testing"
   ]
  },
  {
   "cell_type": "markdown",
   "metadata": {},
   "source": [
    "How do we measure our confidence in a hypothesis underlying our observed data?\n",
    "\n",
    "Jaynes introduces this concept with binary (true or false) hypotheses about quality assurance in a widget factory (p. 93).\n",
    "The example goes, suppose we have eleven machines each producing \"widgets\" --- that is, a product that we can test for good or bad craftsmanship. We suppose ten out of the eleven machines are good manufacturers: for every **six** widgets they create, only one is defective. The eleventh machine is a bad manufacturer, and for every **three** widgets it creates, one is defective."
   ]
  },
  {
   "cell_type": "markdown",
   "metadata": {},
   "source": [
    "![title](./factory_widgets.png)"
   ]
  },
  {
   "cell_type": "markdown",
   "metadata": {},
   "source": [
    "Each machine produces its widgets into an exclusive, unlabelled box. Now suppose we are given one of these unlabelled boxes. We do not know what machine it came from, so we start testing the containing widgets one by one for good craftsmanship. What is our confidence that our box came from one of the ten good machines versus the eleventh bad machine?\n",
    "\n",
    "Jaynes introduces the concept of \"evidence\" for a particular hypothesis using the log-likelihood of our data. As written in equation (4.13) on p.92, we define\n",
    "\n",
    "\\begin{equation} e(H|DX) = e(H|X) + 10 \\sum_i log_{10} \\left[ \\frac{P(D_i|HX)}{P(D_i| \\overline H X)} \\right] \\end{equation}\n",
    "\n",
    "To this end, we have the following probability assignments:"
   ]
  },
  {
   "cell_type": "code",
   "execution_count": 150,
   "metadata": {},
   "outputs": [
    {
     "data": {
      "application/vnd.jupyter.widget-view+json": {
       "model_id": "2bd4610b20e64cd89684d88caea4cb93",
       "version_major": 2,
       "version_minor": 0
      },
      "text/plain": [
       "FloatSlider(value=0.09090909090909091, description='P(A|X)', max=1.0, step=0.09090909090909091)"
      ]
     },
     "metadata": {},
     "output_type": "display_data"
    },
    {
     "data": {
      "application/vnd.jupyter.widget-view+json": {
       "model_id": "a04c977e2b204011a01e9d89490ea7d7",
       "version_major": 2,
       "version_minor": 0
      },
      "text/plain": [
       "FloatSlider(value=0.9090909090909091, description='P(B|X)', max=1.0, step=0.09090909090909091)"
      ]
     },
     "metadata": {},
     "output_type": "display_data"
    },
    {
     "data": {
      "application/vnd.jupyter.widget-view+json": {
       "model_id": "7b29452d871344b0825675afa9312722",
       "version_major": 2,
       "version_minor": 0
      },
      "text/plain": [
       "BoundedFloatText(value=0.6666666666666666, description='P(D|AX)', max=1.0, step=0.16666666666666666)"
      ]
     },
     "metadata": {},
     "output_type": "display_data"
    },
    {
     "data": {
      "application/vnd.jupyter.widget-view+json": {
       "model_id": "441fe2865d5b499ab4a949d750adc9d2",
       "version_major": 2,
       "version_minor": 0
      },
      "text/plain": [
       "BoundedFloatText(value=0.8333333333333334, description='P(D|AX)', max=1.0, step=0.16666666666666666)"
      ]
     },
     "metadata": {},
     "output_type": "display_data"
    }
   ],
   "source": [
    "A_prior = ipywidgets.FloatSlider(value=Fraction(1/11), min=0, max=1, step=Fraction(1/11), description=\"P(A|X)\")\n",
    "B_prior = ipywidgets.FloatSlider(value=Fraction(10/11), min=0, max=1, step=Fraction(1/11), description=\"P(B|X)\")\n",
    "\n",
    "A_sample_prob = ipywidgets.BoundedFloatText(value=Fraction(2/3), min=0, max=1, step=Fraction(1/6), description=\"P(D|AX)\")\n",
    "B_sample_prob = ipywidgets.BoundedFloatText(value=Fraction(5/6), min=0, max=1, step=Fraction(1/6), description=\"P(D|AX)\")\n",
    "\n",
    "display(A_prior)\n",
    "display(B_prior)\n",
    "\n",
    "display(A_sample_prob)\n",
    "display(B_sample_prob)"
   ]
  },
  {
   "cell_type": "markdown",
   "metadata": {},
   "source": [
    "i.e. \\begin{equation} P(A|X) = 1/11 \\ \\ \\ \\ P(D|AX) = 2/3 \\end{equation}\n",
    "and \\begin{equation} P(B|X) = 10/11 \\ \\ \\ \\ P(D|BX) = 5/6 \\end{equation}"
   ]
  },
  {
   "cell_type": "markdown",
   "metadata": {},
   "source": [
    "With [lea](https://bitbucket.org/piedenis/lea/), a python library for intuitive probabilistic programming, we write"
   ]
  },
  {
   "cell_type": "markdown",
   "metadata": {},
   "source": [
    "As written in equation (4.39) on page 101,\n",
    "\n",
    "\\begin{equation} P(D | \\overline C X) = \\frac{P(D|AX)P(A|X) + P(D|BX)P(B|X)}{P(A|X) + P(B|X)} \\end{equation} \n",
    "\n",
    "which is calculated for us by lea automatically with `D.given(C != 1)`"
   ]
  },
  {
   "cell_type": "code",
   "execution_count": 135,
   "metadata": {},
   "outputs": [],
   "source": [
    "hypothesis = lea.pmf({'A': 1/11, 'B': 10/11})\n",
    "widget = hypothesis.switch({\n",
    "    'A': lea.bernoulli(2/3),\n",
    "    'B': lea.bernoulli(5/6)\n",
    "})"
   ]
  },
  {
   "cell_type": "markdown",
   "metadata": {},
   "source": [
    "\\begin{equation} P(D|AX) = {N \\choose n} (1/3)^n (2/3)^{N-n} \\end{equation}\n",
    "\\begin{equation} P(D|BX) = {N \\choose n} (1/6)^n (5/6)^{N-n} \\end{equation}"
   ]
  },
  {
   "cell_type": "code",
   "execution_count": 136,
   "metadata": {},
   "outputs": [],
   "source": [
    "def evidence(X, x):\n",
    "    return 10 * (math.log(lea.P(X == x), 10) - math.log(lea.P(X != x), 10))\n",
    "\n",
    "def widget_likelihood(h, data):\n",
    "    N = data.size\n",
    "    n = data[data == 1].size\n",
    "    ratio = lea.P(widget.given(hypothesis == h).times(N) == n) / lea.P(widget.given(hypothesis != h).times(N) == n)\n",
    "    return 10 * math.log(ratio, 10)\n",
    "\n",
    "def evidence_posterior(h, data):\n",
    "    return evidence(hypothesis, h) + widget_likelihood(h, data)"
   ]
  },
  {
   "cell_type": "code",
   "execution_count": 133,
   "metadata": {},
   "outputs": [
    {
     "data": {
      "text/plain": [
       "-0.9691001300805571"
      ]
     },
     "execution_count": 133,
     "metadata": {},
     "output_type": "execute_result"
    }
   ],
   "source": [
    "evidence_posterior('A', np.array([0, 0, 0]))"
   ]
  },
  {
   "cell_type": "code",
   "execution_count": 134,
   "metadata": {},
   "outputs": [],
   "source": [
    "def binomial(x, n, p):\n",
    "    coefficient = math.factorial(n) / (math.factorial(x) * math.factorial(n - x))\n",
    "    return coefficient * pow(p, x) * (1 - p, n - x)\n",
    "\n",
    "def ev_a(data):\n",
    "    N = data.size\n",
    "    num_bad = data[data == 0].size\n",
    "    num_good = data[data == 1].size\n",
    "    p_prior = 1/11\n",
    "    ev_prior = 10 * math.log(p_prior / (1 - p_prior), 10)\n",
    "    ev_posterior = 10 * (math.log(pow(2/3, num_good) / pow(5/6, num_good), 10) + math.log(pow(1/3, num_bad) / pow(1/6, num_bad), 10))\n",
    "    return ev_prior + ev_posterior\n",
    "    \n",
    "def ev_b(data):\n",
    "    N = data.size\n",
    "    num_bad = data[data == 0].size\n",
    "    num_good = data[data == 1].size\n",
    "    p_prior = 10/11\n",
    "    ev_prior = 10 * math.log(p_prior / (1 - p_prior), 10)\n",
    "    ev_posterior = 10 * (math.log(pow(5/6, num_good) / pow(2/3, num_good), 10) + math.log(pow(1/6, num_bad) / pow(1/3, num_bad), 10))\n",
    "    return ev_prior + ev_posterior"
   ]
  },
  {
   "cell_type": "code",
   "execution_count": 25,
   "metadata": {},
   "outputs": [
    {
     "data": {
      "text/plain": [
       "[<matplotlib.lines.Line2D at 0x7f40bc5fc898>]"
      ]
     },
     "execution_count": 25,
     "metadata": {},
     "output_type": "execute_result"
    },
    {
     "data": {
      "image/png": "[encoded data removed]",
      "text/plain": [
       "<Figure size 432x288 with 1 Axes>"
      ]
     },
     "metadata": {
      "needs_background": "light"
     },
     "output_type": "display_data"
    }
   ],
   "source": [
    "data = np.array([0] * 10)\n",
    "evidence = np.array([ev_a(data[:i]) for i in range(data.size)])\n",
    "plt.plot(range(data.size), evidence)\n",
    "\n",
    "evidence = np.array([ev_b(data[:i]) for i in range(data.size)])\n",
    "plt.plot(range(data.size), evidence)"
   ]
  },
  {
   "cell_type": "code",
   "execution_count": 151,
   "metadata": {},
   "outputs": [],
   "source": [
    "data_size = 10\n",
    "heatmap = []\n",
    "for num_good in range(data_size):\n",
    "    lst = []\n",
    "    for num_bad in range(data_size):\n",
    "        data = np.array([0] * num_bad + [1] * num_good)\n",
    "        heat = ev_b(data) - ev_a(data)\n",
    "        lst.append(heat)\n",
    "    heatmap.append(lst)"
   ]
  },
  {
   "cell_type": "code",
   "execution_count": 152,
   "metadata": {},
   "outputs": [
    {
     "data": {
      "image/png": "[encoded data removed]",
      "text/plain": [
       "<Figure size 432x288 with 1 Axes>"
      ]
     },
     "metadata": {
      "needs_background": "light"
     },
     "output_type": "display_data"
    }
   ],
   "source": [
    "fig, ax = plt.subplots()\n",
    "im = ax.imshow(np.array(heatmap))\n",
    "ax.invert_yaxis()\n",
    "plt.show()"
   ]
  },
  {
   "cell_type": "code",
   "execution_count": 127,
   "metadata": {},
   "outputs": [],
   "source": [
    "def binomial(x, n, p):\n",
    "    coefficient = math.factorial(n) / (math.factorial(x) * math.factorial(n - x))\n",
    "    return coefficient * pow(p, x) * (1 - p, n - x)\n",
    "\n",
    "def ev_a_new(data):\n",
    "    N = data.size\n",
    "    num_bad = data[data == 0].size\n",
    "    num_good = data[data == 1].size\n",
    "    p_prior = 1/11 * (1 - pow(10, -6))\n",
    "    ev_prior = 10 * math.log(p_prior / (1 - p_prior), 10)\n",
    "    \n",
    "    ev_post_numerator_good = pow(2/3, num_good)\n",
    "    ev_post_denominator_good = pow(5/6, num_good) + (11/10 * pow(10, -6) * pow(1/100, num_good))\n",
    "    \n",
    "    ev_post_numerator_bad = pow(1/3, num_bad)\n",
    "    ev_post_denominator_bad = pow(1/6, num_bad) + (11/10 * pow(10, -6) * pow(99/100, num_bad))\n",
    "    \n",
    "    ev_posterior = 10 * (math.log(ev_post_numerator_good / ev_post_denominator_good, 10) + \n",
    "                         math.log(ev_post_numerator_bad / ev_post_denominator_bad, 10))\n",
    "    return ev_prior + ev_posterior\n",
    "\n",
    "\n",
    "def ev_b_new(data):\n",
    "    N = data.size\n",
    "    num_bad = data[data == 0].size\n",
    "    num_good = data[data == 1].size\n",
    "    p_prior = 10/11 * (1 - pow(10, -6))\n",
    "    ev_prior = 10 * math.log(p_prior / (1 - p_prior), 10)\n",
    "    \n",
    "    ev_post_numerator_good = pow(5/6, num_good)\n",
    "    ev_post_denominator_good = ((1 - pow(10, -6)) * pow(2/3, num_good)) + (11 * pow(10, -6) * pow(1/100, num_good))\n",
    "    \n",
    "    ev_post_numerator_bad = pow(1/6, num_bad)\n",
    "    ev_post_denominator_bad = ((1 - pow(10, -6)) * pow(1/3, num_bad)) + (11 * pow(10, -6) * pow(99/100, num_bad))\n",
    "\n",
    "    ev_posterior = 10 * (math.log(ev_post_numerator_good / ev_post_denominator_good, 10) + \n",
    "                         math.log(ev_post_numerator_bad / ev_post_denominator_bad, 10))\n",
    "    \n",
    "    return ev_prior + ev_posterior\n",
    "\n",
    "\n",
    "def ev_c_new(data):\n",
    "    N = data.size\n",
    "    num_bad = data[data == 0].size\n",
    "    num_good = data[data == 1].size\n",
    "    p_prior = pow(10, -6)\n",
    "    ev_prior = 10 * math.log(p_prior / (1 - p_prior), 10)\n",
    "    \n",
    "    ev_post_numerator_good = pow(1/100, num_good)\n",
    "    ev_post_denominator_good = (1/11 * (1 - pow(10, -6)) * pow(2/3, num_good)) + (10/11 * (1 - pow(10, -6)) * pow(5/6, num_good))\n",
    "    \n",
    "    ev_post_numerator_bad = pow(99/100, num_bad)\n",
    "    ev_post_denominator_bad = (1/11 * (1 - pow(10, -6)) * pow(1/3, num_bad)) + (10/11 * (1 - pow(10, -6)) * pow(1/6, num_bad))\n",
    "\n",
    "    ev_data_likelihood = 10 * (math.log(ev_post_numerator_good / ev_post_denominator_good, 10) + \n",
    "                         math.log(ev_post_numerator_bad / ev_post_denominator_bad, 10))\n",
    "    return ev_prior + ev_data_likelihood\n"
   ]
  },
  {
   "cell_type": "code",
   "execution_count": 128,
   "metadata": {},
   "outputs": [
    {
     "data": {
      "text/plain": [
       "[<matplotlib.lines.Line2D at 0x7f40b4d6a160>]"
      ]
     },
     "execution_count": 128,
     "metadata": {},
     "output_type": "execute_result"
    },
    {
     "data": {
      "image/png": "[encoded data removed]",
      "text/plain": [
       "<Figure size 432x288 with 1 Axes>"
      ]
     },
     "metadata": {
      "needs_background": "light"
     },
     "output_type": "display_data"
    }
   ],
   "source": [
    "data = np.array([0] * 20)\n",
    "evidence = np.array([ev_a_new(data[:i]) for i in range(data.size)])\n",
    "plt.plot(range(data.size), evidence)\n",
    "\n",
    "evidence = np.array([ev_b_new(data[:i]) for i in range(data.size)])\n",
    "plt.plot(range(data.size), evidence)\n",
    "\n",
    "evidence = np.array([ev_c_new(data[:i]) for i in range(data.size)])\n",
    "plt.plot(range(data.size), evidence)"
   ]
  },
  {
   "cell_type": "code",
   "execution_count": 183,
   "metadata": {},
   "outputs": [],
   "source": [
    "def D(H):\n",
    "    if H == 0:\n",
    "        return 1/3\n",
    "    else:\n",
    "        return 1/6\n",
    "\n",
    "with pm.Model() as model:\n",
    "    H_prior = pm.Categorical('H_prior', [1/11, 10/11])\n",
    "    D_given_H = pm.Deterministic('D_given_H', pm.math.switch(np.array(H_prior == 0), 1/3, 1/6))"
   ]
  },
  {
   "cell_type": "code",
   "execution_count": 180,
   "metadata": {},
   "outputs": [
    {
     "data": {
      "text/plain": [
       "[H_prior]"
      ]
     },
     "execution_count": 180,
     "metadata": {},
     "output_type": "execute_result"
    }
   ],
   "source": [
    "model.free_RVs"
   ]
  },
  {
   "cell_type": "code",
   "execution_count": 184,
   "metadata": {},
   "outputs": [],
   "source": [
    "import lea"
   ]
  },
  {
   "cell_type": "code",
   "execution_count": 231,
   "metadata": {},
   "outputs": [],
   "source": [
    "hypothesis = lea.pmf({'A': 1/11, 'B': 10/11})\n",
    "widget = hypothesis.switch({\n",
    "    'A': lea.event(2/3),\n",
    "    'B': lea.event(5/6)\n",
    "})\n",
    "data = (False, False, False)"
   ]
  },
  {
   "cell_type": "code",
   "execution_count": 243,
   "metadata": {},
   "outputs": [
    {
     "data": {
      "text/plain": [
       "0.004629629629629624"
      ]
     },
     "execution_count": 243,
     "metadata": {},
     "output_type": "execute_result"
    }
   ],
   "source": [
    "widget_given_B = widget.given(hypothesis=='B')\n",
    "widgets = lea.joint(*([widget_given_B.new() for i in range(3)]))\n",
    "lea.P(widgets == data)"
   ]
  },
  {
   "cell_type": "code",
   "execution_count": 244,
   "metadata": {},
   "outputs": [],
   "source": [
    "hypothesis = lea.pmf({'A': 1/11 * (1 - pow(10, -6)), 'B': 10/11 * (1 - pow(10, -6)), 'C': pow(10, -6)})\n",
    "widget = hypothesis.switch({\n",
    "    'A': lea.bernoulli(2/3),\n",
    "    'B': lea.bernoulli(5/6),\n",
    "    'C': lea.bernoulli(1/100)\n",
    "})\n",
    "\n",
    "widget_given_B = widget.given(hypothesis=='B')\n",
    "\n",
    "a_widgets = widget.given(hypothesis=='A').times(3)\n",
    "b_widgets = widget.given(hypothesis=='B').times(3)\n",
    "\n",
    "print(1/3 * 1/11 + 1/6 * 10/11)\n",
    "widget.given(hypothesis!='C')"
   ]
  },
  {
   "cell_type": "code",
   "execution_count": 245,
   "metadata": {},
   "outputs": [],
   "source": [
    "def A(x):\n",
    "    return x"
   ]
  },
  {
   "cell_type": "code",
   "execution_count": 247,
   "metadata": {},
   "outputs": [
    {
     "data": {
      "application/vnd.jupyter.widget-view+json": {
       "model_id": "4238e2cbbca74d58906269a36b21588d",
       "version_major": 2,
       "version_minor": 0
      },
      "text/plain": [
       "interactive(children=(IntSlider(value=10, description='x', max=30, min=-10), Output()), _dom_classes=('widget-…"
      ]
     },
     "metadata": {},
     "output_type": "display_data"
    },
    {
     "data": {
      "text/plain": [
       "<function __main__.A(x)>"
      ]
     },
     "execution_count": 247,
     "metadata": {},
     "output_type": "execute_result"
    }
   ],
   "source": [
    "ipywidgets.interact(A, x=10)"
   ]
  },
  {
   "cell_type": "code",
   "execution_count": null,
   "metadata": {},
   "outputs": [],
   "source": []
  }
 ],
 "metadata": {
  "kernelspec": {
   "display_name": "Python 3",
   "language": "python",
   "name": "python3"
  },
  "language_info": {
   "codemirror_mode": {
    "name": "ipython",
    "version": 3
   },
   "file_extension": ".py",
   "mimetype": "text/x-python",
   "name": "python",
   "nbconvert_exporter": "python",
   "pygments_lexer": "ipython3",
   "version": "3.5.2"
  }
 },
 "nbformat": 4,
 "nbformat_minor": 2
}
