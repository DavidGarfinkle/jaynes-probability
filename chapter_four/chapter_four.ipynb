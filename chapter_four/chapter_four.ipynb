{
 "cells": [
  {
   "cell_type": "markdown",
   "metadata": {},
   "source": [
    "# Elementary Hypothesis Testing"
   ]
  },
  {
   "cell_type": "markdown",
   "metadata": {},
   "source": [
    "Jaynes introduces the concept of binary hypothesis testing with the example of quality assurance in a factory.\n",
    "\n",
    "Suppose we have "
   ]
  },
  {
   "cell_type": "markdown",
   "metadata": {},
   "source": [
    "IMAGE?"
   ]
  },
  {
   "cell_type": "code",
   "execution_count": 47,
   "metadata": {},
   "outputs": [],
   "source": [
    "import math\n",
    "import numpy as np\n",
    "import pymc3 as pm\n",
    "from enum import Enum"
   ]
  },
  {
   "cell_type": "code",
   "execution_count": 8,
   "metadata": {},
   "outputs": [],
   "source": [
    "class Hypothesis(Enum):\n",
    "    A = 0\n",
    "    B = 1\n",
    "    \n",
    "def prob_data(data, hyp):\n",
    "    \"\"\"\n",
    "    The probability of picking a sequence of x good widgets inside a box with N total widgets\n",
    "    \"\"\"\n",
    "    N, sample = data\n",
    "    x = sample[sample == 1].size\n",
    "    \n",
    "    if hyp == Hypothesis.A:\n",
    "        p = 2/3\n",
    "        return Binomial.pmf(x, N, p)\n",
    "    elif hyp == Hypothesis.A:\n",
    "        p = 5/6\n",
    "        return Binomial.pmf(x, N, p)\n",
    "        \n",
    "def evidence(hyp, data):\n",
    "    not_hyp = [h for h in Hypothesis if h is not hyp]\n",
    "    prior_ev = 10 * math.log()\n",
    "\n"
   ]
  },
  {
   "cell_type": "code",
   "execution_count": 20,
   "metadata": {},
   "outputs": [
    {
     "data": {
      "text/plain": [
       "array(-2.39789527)"
      ]
     },
     "execution_count": 20,
     "metadata": {},
     "output_type": "execute_result"
    }
   ],
   "source": [
    "hyp_prior = Categorical.dist([1/11, 10/11])\n",
    "hyp_prior.logp(0).eval()"
   ]
  },
  {
   "cell_type": "code",
   "execution_count": 58,
   "metadata": {},
   "outputs": [],
   "source": [
    "def binomial(x, n, p):\n",
    "    coefficient = math.factorial(n) / (math.factorial(x) * math.factorial(n - x))\n",
    "    return coefficient * pow(p, x) * (1 - p, n - x)\n",
    "\n",
    "def ev_a(data):\n",
    "    N = data.size\n",
    "    num_bad = data[data == 0].size\n",
    "    num_good = data[data == 1].size\n",
    "    p_prior = 1/11\n",
    "    ev_prior = 10 * math.log(p_prior / (1 - p_prior), 10)\n",
    "    ev_posterior = 10 * (math.log(pow(2/3, num_good) / pow(5/6, num_good), 10) + math.log(pow(1/3, num_bad) / pow(1/6, num_bad), 10))\n",
    "    return ev_prior + ev_posterior\n",
    "    \n",
    "def ev_b(data):\n",
    "    N = data.size\n",
    "    num_bad = data[data == 0].size\n",
    "    num_good = data[data == 1].size\n",
    "    p_prior = 10/11\n",
    "    ev_prior = 10 * math.log(p_prior / (1 - p_prior), 10)\n",
    "    ev_posterior = 10 * (math.log(pow(2/3, num_good) / pow(5/6, num_good), 10) + math.log(pow(1/3, num_bad) / pow(1/6, num_bad), 10))\n",
    "    return ev_prior + ev_posterior"
   ]
  },
  {
   "cell_type": "code",
   "execution_count": 59,
   "metadata": {},
   "outputs": [
    {
     "data": {
      "text/plain": [
       "9.999999999999998"
      ]
     },
     "execution_count": 59,
     "metadata": {},
     "output_type": "execute_result"
    }
   ],
   "source": [
    "ev_b(np.array([]))"
   ]
  },
  {
   "cell_type": "code",
   "execution_count": null,
   "metadata": {},
   "outputs": [],
   "source": []
  },
  {
   "cell_type": "code",
   "execution_count": null,
   "metadata": {},
   "outputs": [],
   "source": []
  }
 ],
 "metadata": {
  "kernelspec": {
   "display_name": "Python 3",
   "language": "python",
   "name": "python3"
  },
  "language_info": {
   "codemirror_mode": {
    "name": "ipython",
    "version": 3
   },
   "file_extension": ".py",
   "mimetype": "text/x-python",
   "name": "python",
   "nbconvert_exporter": "python",
   "pygments_lexer": "ipython3",
   "version": "3.5.2"
  }
 },
 "nbformat": 4,
 "nbformat_minor": 2
}
